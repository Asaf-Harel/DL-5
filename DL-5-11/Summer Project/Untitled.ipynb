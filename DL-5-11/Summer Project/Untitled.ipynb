{
 "cells": [
  {
   "cell_type": "code",
   "execution_count": 3,
   "metadata": {},
   "outputs": [],
   "source": [
    "%matplotlib inline\n",
    "\n",
    "import numpy as np\n",
    "import pandas as pd\n",
    "import matplotlib.pyplot as plt\n",
    "from PIL import Image, ImageOps\n",
    "from DL import DLLayer, DLModel\n",
    "from sklearn.metrics import confusion_matrix"
   ]
  },
  {
   "cell_type": "code",
   "execution_count": 4,
   "metadata": {},
   "outputs": [
    {
     "data": {
      "text/html": [
       "<div>\n",
       "<style scoped>\n",
       "    .dataframe tbody tr th:only-of-type {\n",
       "        vertical-align: middle;\n",
       "    }\n",
       "\n",
       "    .dataframe tbody tr th {\n",
       "        vertical-align: top;\n",
       "    }\n",
       "\n",
       "    .dataframe thead th {\n",
       "        text-align: right;\n",
       "    }\n",
       "</style>\n",
       "<table border=\"1\" class=\"dataframe\">\n",
       "  <thead>\n",
       "    <tr style=\"text-align: right;\">\n",
       "      <th></th>\n",
       "      <th>emotion</th>\n",
       "      <th>pixels</th>\n",
       "      <th>Usage</th>\n",
       "    </tr>\n",
       "  </thead>\n",
       "  <tbody>\n",
       "    <tr>\n",
       "      <th>0</th>\n",
       "      <td>0</td>\n",
       "      <td>70 80 82 72 58 58 60 63 54 58 60 48 89 115 121...</td>\n",
       "      <td>Training</td>\n",
       "    </tr>\n",
       "    <tr>\n",
       "      <th>1</th>\n",
       "      <td>0</td>\n",
       "      <td>151 150 147 155 148 133 111 140 170 174 182 15...</td>\n",
       "      <td>Training</td>\n",
       "    </tr>\n",
       "    <tr>\n",
       "      <th>2</th>\n",
       "      <td>2</td>\n",
       "      <td>231 212 156 164 174 138 161 173 182 200 106 38...</td>\n",
       "      <td>Training</td>\n",
       "    </tr>\n",
       "    <tr>\n",
       "      <th>3</th>\n",
       "      <td>4</td>\n",
       "      <td>24 32 36 30 32 23 19 20 30 41 21 22 32 34 21 1...</td>\n",
       "      <td>Training</td>\n",
       "    </tr>\n",
       "    <tr>\n",
       "      <th>4</th>\n",
       "      <td>6</td>\n",
       "      <td>4 0 0 0 0 0 0 0 0 0 0 0 3 15 23 28 48 50 58 84...</td>\n",
       "      <td>Training</td>\n",
       "    </tr>\n",
       "  </tbody>\n",
       "</table>\n",
       "</div>"
      ],
      "text/plain": [
       "   emotion                                             pixels     Usage\n",
       "0        0  70 80 82 72 58 58 60 63 54 58 60 48 89 115 121...  Training\n",
       "1        0  151 150 147 155 148 133 111 140 170 174 182 15...  Training\n",
       "2        2  231 212 156 164 174 138 161 173 182 200 106 38...  Training\n",
       "3        4  24 32 36 30 32 23 19 20 30 41 21 22 32 34 21 1...  Training\n",
       "4        6  4 0 0 0 0 0 0 0 0 0 0 0 3 15 23 28 48 50 58 84...  Training"
      ]
     },
     "execution_count": 4,
     "metadata": {},
     "output_type": "execute_result"
    }
   ],
   "source": [
    "data = pd.read_csv('fer2013.csv')\n",
    "data.head()"
   ]
  },
  {
   "cell_type": "code",
   "execution_count": 5,
   "metadata": {},
   "outputs": [
    {
     "data": {
      "text/html": [
       "<div>\n",
       "<style scoped>\n",
       "    .dataframe tbody tr th:only-of-type {\n",
       "        vertical-align: middle;\n",
       "    }\n",
       "\n",
       "    .dataframe tbody tr th {\n",
       "        vertical-align: top;\n",
       "    }\n",
       "\n",
       "    .dataframe thead th {\n",
       "        text-align: right;\n",
       "    }\n",
       "</style>\n",
       "<table border=\"1\" class=\"dataframe\">\n",
       "  <thead>\n",
       "    <tr style=\"text-align: right;\">\n",
       "      <th></th>\n",
       "      <th>emotion</th>\n",
       "      <th>pixels</th>\n",
       "      <th>Usage</th>\n",
       "      <th>emotion_name</th>\n",
       "    </tr>\n",
       "  </thead>\n",
       "  <tbody>\n",
       "    <tr>\n",
       "      <th>0</th>\n",
       "      <td>0</td>\n",
       "      <td>70 80 82 72 58 58 60 63 54 58 60 48 89 115 121...</td>\n",
       "      <td>Training</td>\n",
       "      <td>Angry</td>\n",
       "    </tr>\n",
       "    <tr>\n",
       "      <th>1</th>\n",
       "      <td>0</td>\n",
       "      <td>151 150 147 155 148 133 111 140 170 174 182 15...</td>\n",
       "      <td>Training</td>\n",
       "      <td>Angry</td>\n",
       "    </tr>\n",
       "    <tr>\n",
       "      <th>2</th>\n",
       "      <td>2</td>\n",
       "      <td>231 212 156 164 174 138 161 173 182 200 106 38...</td>\n",
       "      <td>Training</td>\n",
       "      <td>Fear</td>\n",
       "    </tr>\n",
       "    <tr>\n",
       "      <th>3</th>\n",
       "      <td>4</td>\n",
       "      <td>24 32 36 30 32 23 19 20 30 41 21 22 32 34 21 1...</td>\n",
       "      <td>Training</td>\n",
       "      <td>Sad</td>\n",
       "    </tr>\n",
       "    <tr>\n",
       "      <th>4</th>\n",
       "      <td>6</td>\n",
       "      <td>4 0 0 0 0 0 0 0 0 0 0 0 3 15 23 28 48 50 58 84...</td>\n",
       "      <td>Training</td>\n",
       "      <td>Neutral</td>\n",
       "    </tr>\n",
       "  </tbody>\n",
       "</table>\n",
       "</div>"
      ],
      "text/plain": [
       "   emotion                                             pixels     Usage  \\\n",
       "0        0  70 80 82 72 58 58 60 63 54 58 60 48 89 115 121...  Training   \n",
       "1        0  151 150 147 155 148 133 111 140 170 174 182 15...  Training   \n",
       "2        2  231 212 156 164 174 138 161 173 182 200 106 38...  Training   \n",
       "3        4  24 32 36 30 32 23 19 20 30 41 21 22 32 34 21 1...  Training   \n",
       "4        6  4 0 0 0 0 0 0 0 0 0 0 0 3 15 23 28 48 50 58 84...  Training   \n",
       "\n",
       "  emotion_name  \n",
       "0        Angry  \n",
       "1        Angry  \n",
       "2         Fear  \n",
       "3          Sad  \n",
       "4      Neutral  "
      ]
     },
     "execution_count": 5,
     "metadata": {},
     "output_type": "execute_result"
    }
   ],
   "source": [
    "emotions_names = {0: 'Angry', 1: 'Disgust', 2: 'Fear', 3: 'Happy', 4: 'Sad', 5: 'Surprise', 6: 'Neutral'}\n",
    "data['emotion_name'] = data['emotion'].map(emotions_names)\n",
    "data.head()"
   ]
  },
  {
   "cell_type": "code",
   "execution_count": 6,
   "metadata": {},
   "outputs": [],
   "source": [
    "pixels_values = data.pixels.str.split(\" \").tolist()\n",
    "pixels_values = pd.DataFrame(pixels_values, dtype=np.int8)"
   ]
  },
  {
   "cell_type": "code",
   "execution_count": 7,
   "metadata": {},
   "outputs": [],
   "source": [
    "images = pixels_values.values\n",
    "images = images.astype(float)"
   ]
  },
  {
   "cell_type": "code",
   "execution_count": 8,
   "metadata": {},
   "outputs": [
    {
     "name": "stdout",
     "output_type": "stream",
     "text": [
      "(35887, 2304)\n"
     ]
    }
   ],
   "source": [
    "print(images.shape)"
   ]
  },
  {
   "cell_type": "code",
   "execution_count": 9,
   "metadata": {},
   "outputs": [
    {
     "data": {
      "text/plain": [
       "2304"
      ]
     },
     "execution_count": 9,
     "metadata": {},
     "output_type": "execute_result"
    }
   ],
   "source": [
    "image_pixels = images.shape[1]\n",
    "image_pixels"
   ]
  },
  {
   "cell_type": "code",
   "execution_count": 10,
   "metadata": {},
   "outputs": [],
   "source": [
    "labels_flat = data[\"emotion\"].values.ravel()\n",
    "labels_count = np.unique(labels_flat).shape[0]"
   ]
  },
  {
   "cell_type": "code",
   "execution_count": 11,
   "metadata": {},
   "outputs": [],
   "source": [
    "def dense_to_one_hot(labels_dense, num_classes):\n",
    "    num_labels = labels_dense.shape[0]\n",
    "    index_offset = np.arange(num_labels) * num_classes\n",
    "    labels_one_hot = np.zeros((num_labels, num_classes))\n",
    "    labels_one_hot.flat[[index_offset + labels_dense.ravel()]] = 1\n",
    "    return labels_one_hot"
   ]
  },
  {
   "cell_type": "code",
   "execution_count": 12,
   "metadata": {},
   "outputs": [
    {
     "name": "stdout",
     "output_type": "stream",
     "text": [
      "[[1 0 0 ... 0 0 0]\n",
      " [1 0 0 ... 0 0 0]\n",
      " [0 0 1 ... 0 0 0]\n",
      " ...\n",
      " [1 0 0 ... 0 0 0]\n",
      " [0 0 0 ... 0 0 0]\n",
      " [0 0 1 ... 0 0 0]]\n"
     ]
    }
   ],
   "source": [
    "labels = dense_to_one_hot(labels_flat, labels_count)\n",
    "labels = labels.astype(np.uint8)\n",
    "print(labels)"
   ]
  },
  {
   "cell_type": "code",
   "execution_count": 13,
   "metadata": {},
   "outputs": [
    {
     "name": "stdout",
     "output_type": "stream",
     "text": [
      "(2304, 32298) (7, 32298)\n"
     ]
    }
   ],
   "source": [
    "m = 32298\n",
    "X_train, Y_train = images[:m].T, labels[:m].T\n",
    "X_test, Y_test = images[m:].T, labels[m:].T\n",
    "print(X_train.shape, Y_train.shape)"
   ]
  },
  {
   "cell_type": "code",
   "execution_count": 29,
   "metadata": {},
   "outputs": [],
   "source": [
    "model = DLModel()\n",
    "model.add(DLLayer(\"Hidden 1\", 64, (2304,), \"relu\", learning_rate=0.001))\n",
    "model.add(DLLayer(\"Hidden 2\", 128, (64,), \"relu\", learning_rate=0.001))\n",
    "model.add(DLLayer(\"Hidden 3\", 256, (128,), \"relu\", learning_rate=0.001))\n",
    "model.add(DLLayer(\"Hidden 4\", 1024, (256,), \"relu\", learning_rate=0.001))\n",
    "model.add(DLLayer(\"Output\", 7, (1024,), \"softmax\", learning_rate=0.001))"
   ]
  },
  {
   "cell_type": "code",
   "execution_count": 30,
   "metadata": {},
   "outputs": [],
   "source": [
    "model.compile(\"categorical_cross_entropy\")"
   ]
  },
  {
   "cell_type": "code",
   "execution_count": 31,
   "metadata": {},
   "outputs": [
    {
     "name": "stdout",
     "output_type": "stream",
     "text": [
      "cost after  1 %: 1.94291376577244\n",
      "cost after  2 %: 1.9409396784350483\n",
      "cost after  3 %: 1.9388326023977596\n",
      "cost after  4 %: 1.936525351780336\n",
      "cost after  5 %: 1.9339403779508637\n",
      "cost after  6 %: 1.9309810278255293\n",
      "cost after  7 %: 1.9275347787147483\n",
      "cost after  8 %: 1.9234662301978214\n",
      "cost after  9 %: 1.9186201846062987\n",
      "cost after  10 %: 1.9128227437026022\n",
      "cost after  11 %: 1.9059074984052329\n",
      "cost after  12 %: 1.8977694842344506\n",
      "cost after  13 %: 1.8884788327446023\n",
      "cost after  14 %: 1.878380841011135\n",
      "cost after  15 %: 1.868150935565069\n",
      "cost after  16 %: 1.858694765811335\n",
      "cost after  17 %: 1.85074431001406\n",
      "cost after  18 %: 1.8444941471937386\n",
      "cost after  19 %: 1.839667550921556\n",
      "cost after  20 %: 1.8358605151305372\n",
      "cost after  21 %: 1.8327718748231852\n",
      "cost after  22 %: 1.8302280912004663\n",
      "cost after  23 %: 1.828130772565405\n",
      "cost after  24 %: 1.8264115105848386\n",
      "cost after  25 %: 1.825016109837966\n",
      "cost after  26 %: 1.8238892397915496\n",
      "cost after  27 %: 1.822983348488324\n",
      "cost after  28 %: 1.8222597066240778\n",
      "cost after  29 %: 1.8216836857595344\n",
      "cost after  30 %: 1.8212251193002527\n",
      "cost after  31 %: 1.82085831182244\n",
      "cost after  32 %: 1.8205649309179712\n",
      "cost after  33 %: 1.8203280828601325\n",
      "cost after  34 %: 1.8201357749558398\n",
      "cost after  35 %: 1.819977802568966\n",
      "cost after  36 %: 1.8198460261899256\n",
      "cost after  37 %: 1.81973379758459\n",
      "cost after  38 %: 1.8196366864694378\n",
      "cost after  39 %: 1.8195518855600126\n",
      "cost after  40 %: 1.8194763708899808\n",
      "cost after  41 %: 1.8194081177391788\n",
      "cost after  42 %: 1.8193456097104073\n",
      "cost after  43 %: 1.8192867500308594\n",
      "cost after  44 %: 1.819230469453544\n",
      "cost after  45 %: 1.8191762070165844\n",
      "cost after  46 %: 1.8191236597075582\n",
      "cost after  47 %: 1.8190726136874853\n",
      "cost after  48 %: 1.8190225465931864\n",
      "cost after  49 %: 1.8189732354610955\n",
      "cost after  50 %: 1.8189244037537438\n",
      "cost after  51 %: 1.8188758592001482\n",
      "cost after  52 %: 1.818827397541528\n",
      "cost after  53 %: 1.8187788314780793\n",
      "cost after  54 %: 1.8187302200765805\n",
      "cost after  55 %: 1.8186815632293976\n",
      "cost after  56 %: 1.8186327498937356\n",
      "cost after  57 %: 1.818583798182734\n",
      "cost after  58 %: 1.818534047805239\n",
      "cost after  59 %: 1.818483240800863\n",
      "cost after  60 %: 1.818431979392242\n",
      "cost after  61 %: 1.8183811623929864\n",
      "cost after  62 %: 1.8183306104712773\n",
      "cost after  63 %: 1.8182801566040256\n",
      "cost after  64 %: 1.818229652860385\n",
      "cost after  65 %: 1.8181792438565418\n",
      "cost after  66 %: 1.8181287276485707\n",
      "cost after  67 %: 1.818078199474134\n",
      "cost after  68 %: 1.8180277911818015\n",
      "cost after  69 %: 1.8179773895994247\n",
      "cost after  70 %: 1.8179269922114558\n",
      "cost after  71 %: 1.8178764816995627\n",
      "cost after  72 %: 1.8178257866942324\n",
      "cost after  73 %: 1.8177748533609452\n",
      "cost after  74 %: 1.8177239451131684\n",
      "cost after  75 %: 1.817672964577186\n",
      "cost after  76 %: 1.817621807516533\n",
      "cost after  77 %: 1.8175705914774618\n",
      "cost after  78 %: 1.81751928489287\n",
      "cost after  79 %: 1.8174678554039123\n",
      "cost after  80 %: 1.8174162333451516\n",
      "cost after  81 %: 1.8173644584494242\n",
      "cost after  82 %: 1.8173124460654166\n",
      "cost after  83 %: 1.817260236041359\n",
      "cost after  84 %: 1.8172077551584276\n",
      "cost after  85 %: 1.8171550327605506\n",
      "cost after  86 %: 1.8171020624340906\n",
      "cost after  87 %: 1.8170488072077688\n",
      "cost after  88 %: 1.8169952571107961\n",
      "cost after  89 %: 1.816941399898011\n",
      "cost after  90 %: 1.8168872089125316\n",
      "cost after  91 %: 1.8168327185816662\n",
      "cost after  92 %: 1.8167779048322295\n",
      "cost after  93 %: 1.8167227141128757\n",
      "cost after  94 %: 1.816667125897232\n",
      "cost after  95 %: 1.8166112074083445\n",
      "cost after  96 %: 1.8165548907087077\n",
      "cost after  97 %: 1.8164982223049169\n",
      "cost after  98 %: 1.8164411681421704\n",
      "cost after  99 %: 1.8163836816632182\n",
      "Train time: 3648.7703409194946\n"
     ]
    }
   ],
   "source": [
    "costs = model.train(X_train, Y_train, 1500)"
   ]
  },
  {
   "cell_type": "code",
   "execution_count": 23,
   "metadata": {},
   "outputs": [],
   "source": [
    "model.save_weights('weights3')"
   ]
  },
  {
   "cell_type": "code",
   "execution_count": 24,
   "metadata": {},
   "outputs": [
    {
     "data": {
      "image/png": "[encoded data removed]",
      "text/plain": [
       "<Figure size 432x288 with 1 Axes>"
      ]
     },
     "metadata": {
      "needs_background": "light"
     },
     "output_type": "display_data"
    }
   ],
   "source": [
    "plt.plot(np.squeeze(costs))\n",
    "plt.ylabel('cost')\n",
    "plt.xlabel('iterations')\n",
    "plt.show()"
   ]
  },
  {
   "cell_type": "code",
   "execution_count": 25,
   "metadata": {},
   "outputs": [],
   "source": [
    "def predict_softmax(X, Y, model):\n",
    "    AL = model.predict(X)\n",
    "    predictions = np.argmax(AL, axis=0)\n",
    "    labels = np.argmax(Y, axis=0)\n",
    "    return confusion_matrix(predictions, labels)"
   ]
  },
  {
   "cell_type": "code",
   "execution_count": 26,
   "metadata": {},
   "outputs": [
    {
     "name": "stdout",
     "output_type": "stream",
     "text": [
      "Deep train accuracy\n",
      "[[  45    2   20   22   30    3   19]\n",
      " [   0    0    0    0    0    0    0]\n",
      " [ 438   72  552  502  467  252  374]\n",
      " [1626  145 1281 5289 1606  587 1666]\n",
      " [ 707   45  645  609 1070  268  686]\n",
      " [ 879  125 1294  610 1048 1948 1041]\n",
      " [ 767  103  801 1078 1262  528 1786]]\n"
     ]
    }
   ],
   "source": [
    "print('Deep train accuracy')\n",
    "pred_train = predict_softmax(X_train, Y_train, model)\n",
    "print(pred_train)"
   ]
  },
  {
   "cell_type": "code",
   "execution_count": 27,
   "metadata": {},
   "outputs": [
    {
     "name": "stdout",
     "output_type": "stream",
     "text": [
      "Deep test accuracy\n",
      "[[  5   1   1   5   1   0   2]\n",
      " [  0   0   0   0   0   0   0]\n",
      " [ 59  11  57  55  62  30  43]\n",
      " [164  20 127 575 179  67 176]\n",
      " [ 86   4  70  63 110  32  87]\n",
      " [ 95   7 169  80 118 219 105]\n",
      " [ 82  12 104 101 124  68 213]]\n"
     ]
    }
   ],
   "source": [
    "print('Deep test accuracy')\n",
    "pred_test = predict_softmax(X_test, Y_test, model)\n",
    "print(pred_test)"
   ]
  },
  {
   "cell_type": "code",
   "execution_count": 28,
   "metadata": {},
   "outputs": [
    {
     "name": "stdout",
     "output_type": "stream",
     "text": [
      "train 4 0.19514864125478754\n",
      "test 4 0.18518518518518517\n"
     ]
    }
   ],
   "source": [
    "i = 4\n",
    "print('train', str(i), str(pred_train[i][i] / np.sum(pred_train[:, i])))\n",
    "print('test', str(i), str(pred_test[i][i] / np.sum(pred_test[:, i])))"
   ]
  },
  {
   "cell_type": "code",
   "execution_count": null,
   "metadata": {},
   "outputs": [],
   "source": []
  }
 ],
 "metadata": {
  "kernelspec": {
   "display_name": "Python 3",
   "language": "python",
   "name": "python3"
  },
  "language_info": {
   "codemirror_mode": {
    "name": "ipython",
    "version": 3
   },
   "file_extension": ".py",
   "mimetype": "text/x-python",
   "name": "python",
   "nbconvert_exporter": "python",
   "pygments_lexer": "ipython3",
   "version": "3.7.4"
  }
 },
 "nbformat": 4,
 "nbformat_minor": 5
}
