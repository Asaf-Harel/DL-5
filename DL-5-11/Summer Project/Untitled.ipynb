{
 "cells": [
  {
   "cell_type": "code",
   "execution_count": 1,
   "id": "105d375a",
   "metadata": {},
   "outputs": [],
   "source": [
    "%matplotlib inline\n",
    "\n",
    "import numpy as np\n",
    "import pandas as pd\n",
    "import matplotlib.pyplot as plt\n",
    "from PIL import Image, ImageOps\n",
    "from DL import DLLayer, DLModel\n",
    "from sklearn.metrics import confusion_matrix"
   ]
  },
  {
   "cell_type": "code",
   "execution_count": 2,
   "id": "a7cc031f",
   "metadata": {},
   "outputs": [
    {
     "data": {
      "text/html": [
       "<div>\n",
       "<style scoped>\n",
       "    .dataframe tbody tr th:only-of-type {\n",
       "        vertical-align: middle;\n",
       "    }\n",
       "\n",
       "    .dataframe tbody tr th {\n",
       "        vertical-align: top;\n",
       "    }\n",
       "\n",
       "    .dataframe thead th {\n",
       "        text-align: right;\n",
       "    }\n",
       "</style>\n",
       "<table border=\"1\" class=\"dataframe\">\n",
       "  <thead>\n",
       "    <tr style=\"text-align: right;\">\n",
       "      <th></th>\n",
       "      <th>emotion</th>\n",
       "      <th>pixels</th>\n",
       "      <th>Usage</th>\n",
       "    </tr>\n",
       "  </thead>\n",
       "  <tbody>\n",
       "    <tr>\n",
       "      <th>0</th>\n",
       "      <td>0</td>\n",
       "      <td>70 80 82 72 58 58 60 63 54 58 60 48 89 115 121...</td>\n",
       "      <td>Training</td>\n",
       "    </tr>\n",
       "    <tr>\n",
       "      <th>1</th>\n",
       "      <td>0</td>\n",
       "      <td>151 150 147 155 148 133 111 140 170 174 182 15...</td>\n",
       "      <td>Training</td>\n",
       "    </tr>\n",
       "    <tr>\n",
       "      <th>2</th>\n",
       "      <td>2</td>\n",
       "      <td>231 212 156 164 174 138 161 173 182 200 106 38...</td>\n",
       "      <td>Training</td>\n",
       "    </tr>\n",
       "    <tr>\n",
       "      <th>3</th>\n",
       "      <td>4</td>\n",
       "      <td>24 32 36 30 32 23 19 20 30 41 21 22 32 34 21 1...</td>\n",
       "      <td>Training</td>\n",
       "    </tr>\n",
       "    <tr>\n",
       "      <th>4</th>\n",
       "      <td>6</td>\n",
       "      <td>4 0 0 0 0 0 0 0 0 0 0 0 3 15 23 28 48 50 58 84...</td>\n",
       "      <td>Training</td>\n",
       "    </tr>\n",
       "  </tbody>\n",
       "</table>\n",
       "</div>"
      ],
      "text/plain": [
       "   emotion                                             pixels     Usage\n",
       "0        0  70 80 82 72 58 58 60 63 54 58 60 48 89 115 121...  Training\n",
       "1        0  151 150 147 155 148 133 111 140 170 174 182 15...  Training\n",
       "2        2  231 212 156 164 174 138 161 173 182 200 106 38...  Training\n",
       "3        4  24 32 36 30 32 23 19 20 30 41 21 22 32 34 21 1...  Training\n",
       "4        6  4 0 0 0 0 0 0 0 0 0 0 0 3 15 23 28 48 50 58 84...  Training"
      ]
     },
     "execution_count": 2,
     "metadata": {},
     "output_type": "execute_result"
    }
   ],
   "source": [
    "data = pd.read_csv('fer2013.csv')\n",
    "data.head()"
   ]
  },
  {
   "cell_type": "code",
   "execution_count": 3,
   "id": "01ab9659",
   "metadata": {},
   "outputs": [
    {
     "data": {
      "text/html": [
       "<div>\n",
       "<style scoped>\n",
       "    .dataframe tbody tr th:only-of-type {\n",
       "        vertical-align: middle;\n",
       "    }\n",
       "\n",
       "    .dataframe tbody tr th {\n",
       "        vertical-align: top;\n",
       "    }\n",
       "\n",
       "    .dataframe thead th {\n",
       "        text-align: right;\n",
       "    }\n",
       "</style>\n",
       "<table border=\"1\" class=\"dataframe\">\n",
       "  <thead>\n",
       "    <tr style=\"text-align: right;\">\n",
       "      <th></th>\n",
       "      <th>emotion</th>\n",
       "      <th>pixels</th>\n",
       "      <th>Usage</th>\n",
       "      <th>emotion_name</th>\n",
       "    </tr>\n",
       "  </thead>\n",
       "  <tbody>\n",
       "    <tr>\n",
       "      <th>0</th>\n",
       "      <td>0</td>\n",
       "      <td>70 80 82 72 58 58 60 63 54 58 60 48 89 115 121...</td>\n",
       "      <td>Training</td>\n",
       "      <td>Angry</td>\n",
       "    </tr>\n",
       "    <tr>\n",
       "      <th>1</th>\n",
       "      <td>0</td>\n",
       "      <td>151 150 147 155 148 133 111 140 170 174 182 15...</td>\n",
       "      <td>Training</td>\n",
       "      <td>Angry</td>\n",
       "    </tr>\n",
       "    <tr>\n",
       "      <th>2</th>\n",
       "      <td>2</td>\n",
       "      <td>231 212 156 164 174 138 161 173 182 200 106 38...</td>\n",
       "      <td>Training</td>\n",
       "      <td>Fear</td>\n",
       "    </tr>\n",
       "    <tr>\n",
       "      <th>3</th>\n",
       "      <td>4</td>\n",
       "      <td>24 32 36 30 32 23 19 20 30 41 21 22 32 34 21 1...</td>\n",
       "      <td>Training</td>\n",
       "      <td>Sad</td>\n",
       "    </tr>\n",
       "    <tr>\n",
       "      <th>4</th>\n",
       "      <td>6</td>\n",
       "      <td>4 0 0 0 0 0 0 0 0 0 0 0 3 15 23 28 48 50 58 84...</td>\n",
       "      <td>Training</td>\n",
       "      <td>Neutral</td>\n",
       "    </tr>\n",
       "  </tbody>\n",
       "</table>\n",
       "</div>"
      ],
      "text/plain": [
       "   emotion                                             pixels     Usage  \\\n",
       "0        0  70 80 82 72 58 58 60 63 54 58 60 48 89 115 121...  Training   \n",
       "1        0  151 150 147 155 148 133 111 140 170 174 182 15...  Training   \n",
       "2        2  231 212 156 164 174 138 161 173 182 200 106 38...  Training   \n",
       "3        4  24 32 36 30 32 23 19 20 30 41 21 22 32 34 21 1...  Training   \n",
       "4        6  4 0 0 0 0 0 0 0 0 0 0 0 3 15 23 28 48 50 58 84...  Training   \n",
       "\n",
       "  emotion_name  \n",
       "0        Angry  \n",
       "1        Angry  \n",
       "2         Fear  \n",
       "3          Sad  \n",
       "4      Neutral  "
      ]
     },
     "execution_count": 3,
     "metadata": {},
     "output_type": "execute_result"
    }
   ],
   "source": [
    "emotions_names = {0: 'Angry', 1: 'Disgust', 2: 'Fear', 3: 'Happy', 4: 'Sad', 5: 'Surprise', 6: 'Neutral'}\n",
    "data['emotion_name'] = data['emotion'].map(emotions_names)\n",
    "data.head()"
   ]
  },
  {
   "cell_type": "code",
   "execution_count": 4,
   "id": "8fddfe29",
   "metadata": {},
   "outputs": [
    {
     "name": "stderr",
     "output_type": "stream",
     "text": [
      "C:\\Users\\User\\anaconda3\\envs\\myenv\\lib\\site-packages\\IPython\\core\\interactiveshell.py:3441: FutureWarning: Could not cast to int8, falling back to object. This behavior is deprecated. In a future version, when a dtype is passed to 'DataFrame', either all columns will be cast to that dtype, or a TypeError will be raised\n",
      "  exec(code_obj, self.user_global_ns, self.user_ns)\n"
     ]
    }
   ],
   "source": [
    "pixels_values = data.pixels.str.split(\" \").tolist()\n",
    "pixels_values = pd.DataFrame(pixels_values, dtype=np.int8)"
   ]
  },
  {
   "cell_type": "code",
   "execution_count": 5,
   "id": "2ac3efe6",
   "metadata": {},
   "outputs": [],
   "source": [
    "images = pixels_values.values\n",
    "images = images.astype(float)"
   ]
  },
  {
   "cell_type": "code",
   "execution_count": 6,
   "id": "7b29bc22",
   "metadata": {},
   "outputs": [
    {
     "name": "stdout",
     "output_type": "stream",
     "text": [
      "(35887, 2304)\n"
     ]
    }
   ],
   "source": [
    "print(images.shape)"
   ]
  },
  {
   "cell_type": "code",
   "execution_count": 7,
   "id": "df0301a3",
   "metadata": {},
   "outputs": [
    {
     "data": {
      "text/plain": [
       "2304"
      ]
     },
     "execution_count": 7,
     "metadata": {},
     "output_type": "execute_result"
    }
   ],
   "source": [
    "image_pixels = images.shape[1]\n",
    "image_pixels"
   ]
  },
  {
   "cell_type": "code",
   "execution_count": 8,
   "id": "035fa911",
   "metadata": {},
   "outputs": [],
   "source": [
    "labels_flat = data[\"emotion\"].values.ravel()\n",
    "labels_count = np.unique(labels_flat).shape[0]"
   ]
  },
  {
   "cell_type": "code",
   "execution_count": 9,
   "id": "c6089354",
   "metadata": {},
   "outputs": [],
   "source": [
    "def dense_to_one_hot(labels_dense, num_classes):\n",
    "    num_labels = labels_dense.shape[0]\n",
    "    index_offset = np.arange(num_labels) * num_classes\n",
    "    labels_one_hot = np.zeros((num_labels, num_classes))\n",
    "    labels_one_hot.flat[[index_offset + labels_dense.ravel()]] = 1\n",
    "    return labels_one_hot"
   ]
  },
  {
   "cell_type": "code",
   "execution_count": 10,
   "id": "cd671aaa",
   "metadata": {},
   "outputs": [
    {
     "name": "stdout",
     "output_type": "stream",
     "text": [
      "[[1 0 0 ... 0 0 0]\n",
      " [1 0 0 ... 0 0 0]\n",
      " [0 0 1 ... 0 0 0]\n",
      " ...\n",
      " [1 0 0 ... 0 0 0]\n",
      " [0 0 0 ... 0 0 0]\n",
      " [0 0 1 ... 0 0 0]]\n"
     ]
    }
   ],
   "source": [
    "labels = dense_to_one_hot(labels_flat, labels_count)\n",
    "labels = labels.astype(np.uint8)\n",
    "print(labels)"
   ]
  },
  {
   "cell_type": "code",
   "execution_count": 11,
   "id": "2265666a",
   "metadata": {},
   "outputs": [
    {
     "name": "stdout",
     "output_type": "stream",
     "text": [
      "(2304, 32298) (7, 32298)\n"
     ]
    }
   ],
   "source": [
    "m = 32298\n",
    "X_train, Y_train = images[:m].T, labels[:m].T\n",
    "X_test, Y_test = images[m:].T, labels[m:].T\n",
    "print(X_train.shape, Y_train.shape)"
   ]
  },
  {
   "cell_type": "code",
   "execution_count": 37,
   "id": "061c911c",
   "metadata": {},
   "outputs": [],
   "source": [
    "model = DLModel()\n",
    "model.add(DLLayer(\"Hidden 1\", 180, (2304,), \"sigmoid\", learning_rate=0.01))\n",
    "model.add(DLLayer(\"Hidden 1\", 64, (180,), \"relu\", learning_rate=0.01))\n",
    "model.add(DLLayer(\"Output\", 7, (64,), \"softmax\", learning_rate=0.01))"
   ]
  },
  {
   "cell_type": "code",
   "execution_count": 38,
   "id": "60ff664a",
   "metadata": {},
   "outputs": [],
   "source": [
    "model.compile(\"categorical_cross_entropy\")"
   ]
  },
  {
   "cell_type": "code",
   "execution_count": 39,
   "id": "e843223c",
   "metadata": {},
   "outputs": [
    {
     "name": "stdout",
     "output_type": "stream",
     "text": [
      "cost after  1 %: 1.940366565362037\n",
      "cost after  2 %: 1.9335284985529464\n",
      "cost after  3 %: 1.9264391534154848\n",
      "cost after  4 %: 1.918468313688876\n",
      "cost after  5 %: 1.9091263507536127\n",
      "cost after  6 %: 1.8982903201289554\n",
      "cost after  7 %: 1.8860333429271512\n",
      "cost after  8 %: 1.8727865451238916\n",
      "cost after  9 %: 1.8596601600894618\n",
      "cost after  10 %: 1.8481817819103437\n",
      "cost after  11 %: 1.8390112572009194\n",
      "cost after  12 %: 1.832131869026907\n",
      "cost after  13 %: 1.827036434087206\n",
      "cost after  14 %: 1.82320428364772\n",
      "cost after  15 %: 1.8202511363929248\n",
      "cost after  16 %: 1.8179696961395222\n",
      "cost after  17 %: 1.8161851947609107\n",
      "cost after  18 %: 1.8147827564571326\n",
      "cost after  19 %: 1.8136728645146545\n",
      "cost after  20 %: 1.8127883964861318\n",
      "cost after  21 %: 1.8120812850567045\n",
      "cost after  22 %: 1.8115060034385828\n",
      "cost after  23 %: 1.8110409866668822\n",
      "cost after  24 %: 1.8106631024320723\n",
      "cost after  25 %: 1.8103588386906435\n",
      "cost after  26 %: 1.8101034111974181\n",
      "cost after  27 %: 1.8098924262130285\n",
      "cost after  28 %: 1.8097152941818464\n",
      "cost after  29 %: 1.8095640777230437\n",
      "cost after  30 %: 1.8094285910644412\n",
      "cost after  31 %: 1.8092820475431874\n",
      "cost after  32 %: 1.8091587071308737\n",
      "cost after  33 %: 1.8090251182147412\n",
      "cost after  34 %: 1.8088889597891753\n",
      "cost after  35 %: 1.8087897885325437\n",
      "cost after  36 %: 1.80870920440109\n",
      "cost after  37 %: 1.808632326282755\n",
      "cost after  38 %: 1.8085393510295789\n",
      "cost after  39 %: 1.8084663956350135\n",
      "cost after  40 %: 1.8083922946176003\n",
      "cost after  41 %: 1.8083219666926482\n",
      "cost after  42 %: 1.808257080442724\n",
      "cost after  43 %: 1.8081921939245678\n",
      "cost after  44 %: 1.8081283760443385\n",
      "cost after  45 %: 1.8080603684827052\n",
      "cost after  46 %: 1.8079936402091272\n",
      "cost after  47 %: 1.807926597341802\n",
      "cost after  48 %: 1.807857845134539\n",
      "cost after  49 %: 1.8077940473508085\n",
      "cost after  50 %: 1.807729432837338\n",
      "cost after  51 %: 1.8076620588973678\n",
      "cost after  52 %: 1.8075912696492122\n",
      "cost after  53 %: 1.8075123620355598\n",
      "cost after  54 %: 1.807426268348335\n",
      "cost after  55 %: 1.8073519418895285\n",
      "cost after  56 %: 1.8072785235149387\n",
      "cost after  57 %: 1.8072029030408039\n",
      "cost after  58 %: 1.8071241068336081\n",
      "cost after  59 %: 1.807040219749866\n",
      "cost after  60 %: 1.80695196820734\n",
      "cost after  61 %: 1.8068669684205723\n",
      "cost after  62 %: 1.8067708414053107\n",
      "cost after  63 %: 1.8066670999520718\n",
      "cost after  64 %: 1.8065694884705907\n",
      "cost after  65 %: 1.8064707710629384\n",
      "cost after  66 %: 1.8063696718591065\n",
      "cost after  67 %: 1.8062656873958265\n",
      "cost after  68 %: 1.806157537058478\n",
      "cost after  69 %: 1.8060449208394007\n",
      "cost after  70 %: 1.8058894085338677\n",
      "cost after  71 %: 1.8057589688889055\n",
      "cost after  72 %: 1.8056294638595207\n",
      "cost after  73 %: 1.805470232068854\n",
      "cost after  74 %: 1.8053365228553886\n",
      "cost after  75 %: 1.8052010528809839\n",
      "cost after  76 %: 1.805064063430332\n",
      "cost after  77 %: 1.8049124035363229\n",
      "cost after  78 %: 1.8047501425551629\n",
      "cost after  79 %: 1.8045810654493644\n",
      "cost after  80 %: 1.804409023343891\n",
      "cost after  81 %: 1.8042305380790746\n",
      "cost after  82 %: 1.8040488534521013\n",
      "cost after  83 %: 1.8038476250741804\n",
      "cost after  84 %: 1.803650725211228\n",
      "cost after  85 %: 1.8034299603601989\n",
      "cost after  86 %: 1.8032202763110081\n",
      "cost after  87 %: 1.8029882749967991\n",
      "cost after  88 %: 1.80276024636205\n",
      "cost after  89 %: 1.8025083360562877\n",
      "cost after  90 %: 1.8022329852450847\n",
      "cost after  91 %: 1.802033099909607\n",
      "cost after  92 %: 1.8017534700970552\n",
      "cost after  93 %: 1.801439487296112\n",
      "cost after  94 %: 1.8010264355012369\n",
      "cost after  95 %: 1.8007359398838125\n",
      "cost after  96 %: 1.8005604964496895\n",
      "cost after  97 %: 1.8001052863703826\n",
      "cost after  98 %: 1.7999019833263055\n",
      "cost after  99 %: 1.7993981783883415\n",
      "Train time: 1313.8907504081726\n"
     ]
    }
   ],
   "source": [
    "costs = model.train(X_train, Y_train, 1500)"
   ]
  },
  {
   "cell_type": "code",
   "execution_count": 40,
   "id": "7f31f316",
   "metadata": {},
   "outputs": [],
   "source": [
    "model.save_weights('weights3')"
   ]
  },
  {
   "cell_type": "markdown",
   "id": "48cdcf26",
   "metadata": {},
   "source": [
    "plt.plot(np.squeeze(costs))\n",
    "plt.ylabel('cost')\n",
    "plt.xlabel('iterations')\n",
    "plt.show()"
   ]
  },
  {
   "cell_type": "code",
   "execution_count": 41,
   "id": "61c946b1",
   "metadata": {},
   "outputs": [],
   "source": [
    "def predict_softmax(X, Y, model):\n",
    "    AL = model.predict(X)\n",
    "    predictions = np.argmax(AL, axis=0)\n",
    "    labels = np.argmax(Y, axis=0)\n",
    "    return confusion_matrix(predictions, labels)"
   ]
  },
  {
   "cell_type": "code",
   "execution_count": 42,
   "id": "ea5ec3ea",
   "metadata": {},
   "outputs": [
    {
     "name": "stdout",
     "output_type": "stream",
     "text": [
      "Deep train accuracy\n",
      "[[   0    0    0    0    0    0    0]\n",
      " [   0    0    0    0    0    0    0]\n",
      " [   0    0    0    0    0    0    0]\n",
      " [4462  492 4593 8110 5483 3586 5572]\n",
      " [   0    0    0    0    0    0    0]\n",
      " [   0    0    0    0    0    0    0]\n",
      " [   0    0    0    0    0    0    0]]\n"
     ]
    }
   ],
   "source": [
    "print('Deep train accuracy')\n",
    "pred_train = predict_softmax(X_train, Y_train, model)\n",
    "print(pred_train)"
   ]
  },
  {
   "cell_type": "code",
   "execution_count": 43,
   "id": "01699b30",
   "metadata": {},
   "outputs": [
    {
     "name": "stdout",
     "output_type": "stream",
     "text": [
      "Deep test accuracy\n",
      "[[  0   0   0   0   0   0   0]\n",
      " [  0   0   0   0   0   0   0]\n",
      " [  0   0   0   0   0   0   0]\n",
      " [491  55 528 879 594 416 626]\n",
      " [  0   0   0   0   0   0   0]\n",
      " [  0   0   0   0   0   0   0]\n",
      " [  0   0   0   0   0   0   0]]\n"
     ]
    }
   ],
   "source": [
    "print('Deep test accuracy')\n",
    "pred_test = predict_softmax(X_test, Y_test, model)\n",
    "print(pred_test)"
   ]
  },
  {
   "cell_type": "code",
   "execution_count": 44,
   "id": "5f8cee6a",
   "metadata": {},
   "outputs": [
    {
     "name": "stdout",
     "output_type": "stream",
     "text": [
      "train 4 0.0\n",
      "test 4 0.0\n"
     ]
    }
   ],
   "source": [
    "i = 4\n",
    "print('train', str(i), str(pred_train[i][i] / np.sum(pred_train[:, i])))\n",
    "print('test', str(i), str(pred_test[i][i] / np.sum(pred_test[:, i])))"
   ]
  },
  {
   "cell_type": "code",
   "execution_count": null,
   "id": "35677861",
   "metadata": {},
   "outputs": [],
   "source": []
  }
 ],
 "metadata": {
  "kernelspec": {
   "display_name": "Python 3 (ipykernel)",
   "language": "python",
   "name": "python3"
  },
  "language_info": {
   "codemirror_mode": {
    "name": "ipython",
    "version": 3
   },
   "file_extension": ".py",
   "mimetype": "text/x-python",
   "name": "python",
   "nbconvert_exporter": "python",
   "pygments_lexer": "ipython3",
   "version": "3.9.6"
  }
 },
 "nbformat": 4,
 "nbformat_minor": 5
}
