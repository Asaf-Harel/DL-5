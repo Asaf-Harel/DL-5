{
 "cells": [
  {
   "cell_type": "code",
   "execution_count": 1,
   "id": "105d375a",
   "metadata": {},
   "outputs": [],
   "source": [
    "%matplotlib inline\n",
    "\n",
    "import numpy as np\n",
    "import pandas as pd\n",
    "import matplotlib.pyplot as plt\n",
    "from PIL import Image, ImageOps\n",
    "from DL import DLLayer, DLModel\n",
    "from sklearn.metrics import confusion_matrix"
   ]
  },
  {
   "cell_type": "code",
   "execution_count": 2,
   "id": "a7cc031f",
   "metadata": {},
   "outputs": [
    {
     "data": {
      "text/html": [
       "<div>\n",
       "<style scoped>\n",
       "    .dataframe tbody tr th:only-of-type {\n",
       "        vertical-align: middle;\n",
       "    }\n",
       "\n",
       "    .dataframe tbody tr th {\n",
       "        vertical-align: top;\n",
       "    }\n",
       "\n",
       "    .dataframe thead th {\n",
       "        text-align: right;\n",
       "    }\n",
       "</style>\n",
       "<table border=\"1\" class=\"dataframe\">\n",
       "  <thead>\n",
       "    <tr style=\"text-align: right;\">\n",
       "      <th></th>\n",
       "      <th>emotion</th>\n",
       "      <th>pixels</th>\n",
       "      <th>Usage</th>\n",
       "    </tr>\n",
       "  </thead>\n",
       "  <tbody>\n",
       "    <tr>\n",
       "      <th>0</th>\n",
       "      <td>0</td>\n",
       "      <td>70 80 82 72 58 58 60 63 54 58 60 48 89 115 121...</td>\n",
       "      <td>Training</td>\n",
       "    </tr>\n",
       "    <tr>\n",
       "      <th>1</th>\n",
       "      <td>0</td>\n",
       "      <td>151 150 147 155 148 133 111 140 170 174 182 15...</td>\n",
       "      <td>Training</td>\n",
       "    </tr>\n",
       "    <tr>\n",
       "      <th>2</th>\n",
       "      <td>2</td>\n",
       "      <td>231 212 156 164 174 138 161 173 182 200 106 38...</td>\n",
       "      <td>Training</td>\n",
       "    </tr>\n",
       "    <tr>\n",
       "      <th>3</th>\n",
       "      <td>4</td>\n",
       "      <td>24 32 36 30 32 23 19 20 30 41 21 22 32 34 21 1...</td>\n",
       "      <td>Training</td>\n",
       "    </tr>\n",
       "    <tr>\n",
       "      <th>4</th>\n",
       "      <td>6</td>\n",
       "      <td>4 0 0 0 0 0 0 0 0 0 0 0 3 15 23 28 48 50 58 84...</td>\n",
       "      <td>Training</td>\n",
       "    </tr>\n",
       "  </tbody>\n",
       "</table>\n",
       "</div>"
      ],
      "text/plain": [
       "   emotion                                             pixels     Usage\n",
       "0        0  70 80 82 72 58 58 60 63 54 58 60 48 89 115 121...  Training\n",
       "1        0  151 150 147 155 148 133 111 140 170 174 182 15...  Training\n",
       "2        2  231 212 156 164 174 138 161 173 182 200 106 38...  Training\n",
       "3        4  24 32 36 30 32 23 19 20 30 41 21 22 32 34 21 1...  Training\n",
       "4        6  4 0 0 0 0 0 0 0 0 0 0 0 3 15 23 28 48 50 58 84...  Training"
      ]
     },
     "execution_count": 2,
     "metadata": {},
     "output_type": "execute_result"
    }
   ],
   "source": [
    "data = pd.read_csv('fer2013.csv')\n",
    "data.head()"
   ]
  },
  {
   "cell_type": "code",
   "execution_count": 3,
   "id": "01ab9659",
   "metadata": {},
   "outputs": [
    {
     "data": {
      "text/html": [
       "<div>\n",
       "<style scoped>\n",
       "    .dataframe tbody tr th:only-of-type {\n",
       "        vertical-align: middle;\n",
       "    }\n",
       "\n",
       "    .dataframe tbody tr th {\n",
       "        vertical-align: top;\n",
       "    }\n",
       "\n",
       "    .dataframe thead th {\n",
       "        text-align: right;\n",
       "    }\n",
       "</style>\n",
       "<table border=\"1\" class=\"dataframe\">\n",
       "  <thead>\n",
       "    <tr style=\"text-align: right;\">\n",
       "      <th></th>\n",
       "      <th>emotion</th>\n",
       "      <th>pixels</th>\n",
       "      <th>Usage</th>\n",
       "      <th>emotion_name</th>\n",
       "    </tr>\n",
       "  </thead>\n",
       "  <tbody>\n",
       "    <tr>\n",
       "      <th>0</th>\n",
       "      <td>0</td>\n",
       "      <td>70 80 82 72 58 58 60 63 54 58 60 48 89 115 121...</td>\n",
       "      <td>Training</td>\n",
       "      <td>Angry</td>\n",
       "    </tr>\n",
       "    <tr>\n",
       "      <th>1</th>\n",
       "      <td>0</td>\n",
       "      <td>151 150 147 155 148 133 111 140 170 174 182 15...</td>\n",
       "      <td>Training</td>\n",
       "      <td>Angry</td>\n",
       "    </tr>\n",
       "    <tr>\n",
       "      <th>2</th>\n",
       "      <td>2</td>\n",
       "      <td>231 212 156 164 174 138 161 173 182 200 106 38...</td>\n",
       "      <td>Training</td>\n",
       "      <td>Fear</td>\n",
       "    </tr>\n",
       "    <tr>\n",
       "      <th>3</th>\n",
       "      <td>4</td>\n",
       "      <td>24 32 36 30 32 23 19 20 30 41 21 22 32 34 21 1...</td>\n",
       "      <td>Training</td>\n",
       "      <td>Sad</td>\n",
       "    </tr>\n",
       "    <tr>\n",
       "      <th>4</th>\n",
       "      <td>6</td>\n",
       "      <td>4 0 0 0 0 0 0 0 0 0 0 0 3 15 23 28 48 50 58 84...</td>\n",
       "      <td>Training</td>\n",
       "      <td>Neutral</td>\n",
       "    </tr>\n",
       "  </tbody>\n",
       "</table>\n",
       "</div>"
      ],
      "text/plain": [
       "   emotion                                             pixels     Usage  \\\n",
       "0        0  70 80 82 72 58 58 60 63 54 58 60 48 89 115 121...  Training   \n",
       "1        0  151 150 147 155 148 133 111 140 170 174 182 15...  Training   \n",
       "2        2  231 212 156 164 174 138 161 173 182 200 106 38...  Training   \n",
       "3        4  24 32 36 30 32 23 19 20 30 41 21 22 32 34 21 1...  Training   \n",
       "4        6  4 0 0 0 0 0 0 0 0 0 0 0 3 15 23 28 48 50 58 84...  Training   \n",
       "\n",
       "  emotion_name  \n",
       "0        Angry  \n",
       "1        Angry  \n",
       "2         Fear  \n",
       "3          Sad  \n",
       "4      Neutral  "
      ]
     },
     "execution_count": 3,
     "metadata": {},
     "output_type": "execute_result"
    }
   ],
   "source": [
    "emotions_names = {0: 'Angry', 1: 'Disgust', 2: 'Fear', 3: 'Happy', 4: 'Sad', 5: 'Surprise', 6: 'Neutral'}\n",
    "data['emotion_name'] = data['emotion'].map(emotions_names)\n",
    "data.head()"
   ]
  },
  {
   "cell_type": "code",
   "execution_count": 4,
   "id": "8fddfe29",
   "metadata": {},
   "outputs": [
    {
     "name": "stderr",
     "output_type": "stream",
     "text": [
      "C:\\Users\\User\\anaconda3\\envs\\myenv\\lib\\site-packages\\IPython\\core\\interactiveshell.py:3441: FutureWarning: Could not cast to int8, falling back to object. This behavior is deprecated. In a future version, when a dtype is passed to 'DataFrame', either all columns will be cast to that dtype, or a TypeError will be raised\n",
      "  exec(code_obj, self.user_global_ns, self.user_ns)\n"
     ]
    }
   ],
   "source": [
    "pixels_values = data.pixels.str.split(\" \").tolist()\n",
    "pixels_values = pd.DataFrame(pixels_values, dtype=np.int8)"
   ]
  },
  {
   "cell_type": "code",
   "execution_count": 5,
   "id": "2ac3efe6",
   "metadata": {},
   "outputs": [],
   "source": [
    "images = pixels_values.values\n",
    "images = images.astype(float)"
   ]
  },
  {
   "cell_type": "code",
   "execution_count": 6,
   "id": "7b29bc22",
   "metadata": {},
   "outputs": [
    {
     "name": "stdout",
     "output_type": "stream",
     "text": [
      "(35887, 2304)\n"
     ]
    }
   ],
   "source": [
    "print(images.shape)"
   ]
  },
  {
   "cell_type": "code",
   "execution_count": 7,
   "id": "df0301a3",
   "metadata": {},
   "outputs": [
    {
     "data": {
      "text/plain": [
       "2304"
      ]
     },
     "execution_count": 7,
     "metadata": {},
     "output_type": "execute_result"
    }
   ],
   "source": [
    "image_pixels = images.shape[1]\n",
    "image_pixels"
   ]
  },
  {
   "cell_type": "code",
   "execution_count": 8,
   "id": "035fa911",
   "metadata": {},
   "outputs": [],
   "source": [
    "labels_flat = data[\"emotion\"].values.ravel()\n",
    "labels_count = np.unique(labels_flat).shape[0]"
   ]
  },
  {
   "cell_type": "code",
   "execution_count": 9,
   "id": "c6089354",
   "metadata": {},
   "outputs": [],
   "source": [
    "def dense_to_one_hot(labels_dense, num_classes):\n",
    "    num_labels = labels_dense.shape[0]\n",
    "    index_offset = np.arange(num_labels) * num_classes\n",
    "    labels_one_hot = np.zeros((num_labels, num_classes))\n",
    "    labels_one_hot.flat[[index_offset + labels_dense.ravel()]] = 1\n",
    "    return labels_one_hot"
   ]
  },
  {
   "cell_type": "code",
   "execution_count": 10,
   "id": "cd671aaa",
   "metadata": {},
   "outputs": [
    {
     "name": "stdout",
     "output_type": "stream",
     "text": [
      "[[1 0 0 ... 0 0 0]\n",
      " [1 0 0 ... 0 0 0]\n",
      " [0 0 1 ... 0 0 0]\n",
      " ...\n",
      " [1 0 0 ... 0 0 0]\n",
      " [0 0 0 ... 0 0 0]\n",
      " [0 0 1 ... 0 0 0]]\n"
     ]
    }
   ],
   "source": [
    "labels = dense_to_one_hot(labels_flat, labels_count)\n",
    "labels = labels.astype(np.uint8)\n",
    "print(labels)"
   ]
  },
  {
   "cell_type": "code",
   "execution_count": 11,
   "id": "2265666a",
   "metadata": {},
   "outputs": [
    {
     "name": "stdout",
     "output_type": "stream",
     "text": [
      "(2304, 32298) (7, 32298)\n"
     ]
    }
   ],
   "source": [
    "m = 32298\n",
    "X_train, Y_train = images[:m].T, labels[:m].T\n",
    "X_test, Y_test = images[m:].T, labels[m:].T\n",
    "print(X_train.shape, Y_train.shape)"
   ]
  },
  {
   "cell_type": "code",
   "execution_count": 28,
   "id": "061c911c",
   "metadata": {},
   "outputs": [],
   "source": [
    "model = DLModel()\n",
    "model.add(DLLayer(\"Hidden 1\", 180, (2304,), \"sigmoid\", learning_rate=0.01))\n",
    "model.add(DLLayer(\"Output\", 7, (180,), \"softmax\", learning_rate=0.001))"
   ]
  },
  {
   "cell_type": "code",
   "execution_count": 29,
   "id": "60ff664a",
   "metadata": {},
   "outputs": [],
   "source": [
    "model.compile(\"categorical_cross_entropy\")"
   ]
  },
  {
   "cell_type": "code",
   "execution_count": 30,
   "id": "e843223c",
   "metadata": {},
   "outputs": [
    {
     "name": "stdout",
     "output_type": "stream",
     "text": [
      "cost after  1 %: 1.863761405992696\n",
      "cost after  2 %: 1.8502169395677892\n",
      "cost after  3 %: 1.8416871772063959\n",
      "cost after  4 %: 1.834961230638954\n",
      "cost after  5 %: 1.8296067554264859\n",
      "cost after  6 %: 1.825576743974943\n",
      "cost after  7 %: 1.8221555949164794\n",
      "cost after  8 %: 1.81922142168055\n",
      "cost after  9 %: 1.8166907313116163\n",
      "cost after  10 %: 1.8144807173223152\n",
      "cost after  11 %: 1.812498399927493\n",
      "cost after  12 %: 1.8106833285368142\n",
      "cost after  13 %: 1.809063262934125\n",
      "cost after  14 %: 1.8075054511485882\n",
      "cost after  15 %: 1.8060483982599158\n",
      "cost after  16 %: 1.804662406774318\n",
      "cost after  17 %: 1.803358878625765\n",
      "cost after  18 %: 1.8020952276954687\n",
      "cost after  19 %: 1.8008846851089249\n",
      "cost after  20 %: 1.7997447864847156\n",
      "cost after  21 %: 1.7985652598114499\n",
      "cost after  22 %: 1.797252475459918\n",
      "cost after  23 %: 1.796114075234514\n",
      "cost after  24 %: 1.7949276140791794\n",
      "cost after  25 %: 1.793665807699119\n",
      "cost after  26 %: 1.7927447683255595\n",
      "cost after  27 %: 1.791530984294585\n",
      "cost after  28 %: 1.7903799971552856\n",
      "cost after  29 %: 1.7894998466460825\n",
      "cost after  30 %: 1.7884438624196834\n",
      "cost after  31 %: 1.7873583938931257\n",
      "cost after  32 %: 1.786296452959929\n",
      "cost after  33 %: 1.7852681403544177\n",
      "cost after  34 %: 1.7839921966120384\n",
      "cost after  35 %: 1.7829441133707826\n",
      "cost after  36 %: 1.78157240403887\n",
      "cost after  37 %: 1.7808986760651841\n",
      "cost after  38 %: 1.7805968220046369\n",
      "cost after  39 %: 1.7787610185907805\n",
      "cost after  40 %: 1.7775490795501059\n",
      "cost after  41 %: 1.777088903406313\n",
      "cost after  42 %: 1.7762196018422598\n",
      "cost after  43 %: 1.7747678441079138\n",
      "cost after  44 %: 1.7741449227843145\n",
      "cost after  45 %: 1.7736608874897508\n",
      "cost after  46 %: 1.771230146960032\n",
      "cost after  47 %: 1.7706202663043782\n",
      "cost after  48 %: 1.771587935161672\n",
      "cost after  49 %: 1.767844030316232\n",
      "cost after  50 %: 1.7669817882380487\n",
      "cost after  51 %: 1.7685048107969945\n",
      "cost after  52 %: 1.765815803095316\n",
      "cost after  53 %: 1.7632392897260092\n",
      "cost after  54 %: 1.7667596257261877\n",
      "cost after  55 %: 1.763872781972965\n",
      "cost after  56 %: 1.7621089770507294\n",
      "cost after  57 %: 1.7624030416998981\n",
      "cost after  58 %: 1.7615149648291657\n",
      "cost after  59 %: 1.7562340591562455\n",
      "cost after  60 %: 1.7630224040735134\n",
      "cost after  61 %: 1.7587226697885332\n",
      "cost after  62 %: 1.7575424613673756\n",
      "cost after  63 %: 1.7540714776613313\n",
      "cost after  64 %: 1.7568425768413976\n",
      "cost after  65 %: 1.7541360438996443\n",
      "cost after  66 %: 1.7494210808491126\n",
      "cost after  67 %: 1.7525606097022481\n",
      "cost after  68 %: 1.754774346543228\n",
      "cost after  69 %: 1.7500107575085941\n",
      "cost after  70 %: 1.7493871446634333\n",
      "cost after  71 %: 1.7497247429718967\n",
      "cost after  72 %: 1.7484944202778203\n",
      "cost after  73 %: 1.7430236216958819\n",
      "cost after  74 %: 1.7500248653116643\n",
      "cost after  75 %: 1.7452144937454752\n",
      "cost after  76 %: 1.7464176392687172\n",
      "cost after  77 %: 1.742892280895348\n",
      "cost after  78 %: 1.7474813350985348\n",
      "cost after  79 %: 1.7365795981415335\n",
      "cost after  80 %: 1.735959358322886\n",
      "cost after  81 %: 1.7439121068791565\n",
      "cost after  82 %: 1.7436133907265128\n",
      "cost after  83 %: 1.7358412706494906\n",
      "cost after  84 %: 1.7415541247055997\n",
      "cost after  85 %: 1.7328937523605776\n",
      "cost after  86 %: 1.7313344399678758\n",
      "cost after  87 %: 1.739971953909256\n",
      "cost after  88 %: 1.7365973114772686\n",
      "cost after  89 %: 1.7346840716537648\n",
      "cost after  90 %: 1.7366617982871646\n",
      "cost after  91 %: 1.7245931622541453\n",
      "cost after  92 %: 1.732883920102986\n",
      "cost after  93 %: 1.7355868685310567\n",
      "cost after  94 %: 1.7306578604815592\n",
      "cost after  95 %: 1.7235693728075638\n",
      "cost after  96 %: 1.7248001583471753\n",
      "cost after  97 %: 1.7319409339906682\n",
      "cost after  98 %: 1.7288954878082132\n",
      "cost after  99 %: 1.7241672304273576\n",
      "Train time: 1235.321853876114\n"
     ]
    }
   ],
   "source": [
    "costs = model.train(X_train, Y_train, 1500)"
   ]
  },
  {
   "cell_type": "code",
   "execution_count": null,
   "id": "7f31f316",
   "metadata": {},
   "outputs": [],
   "source": [
    "model.save_weights('weights3')"
   ]
  },
  {
   "cell_type": "code",
   "execution_count": null,
   "id": "4c5016f5",
   "metadata": {},
   "outputs": [],
   "source": [
    "plt.plot(np.squeeze(costs))\n",
    "plt.ylabel('cost')\n",
    "plt.xlabel('iterations')\n",
    "plt.show()"
   ]
  },
  {
   "cell_type": "code",
   "execution_count": null,
   "id": "61c946b1",
   "metadata": {},
   "outputs": [],
   "source": [
    "def predict_softmax(X, Y, model):\n",
    "    AL = model.predict(X)\n",
    "    predictions = np.argmax(AL, axis=0)\n",
    "    labels = np.argmax(Y, axis=0)\n",
    "    return confusion_matrix(predictions, labels)"
   ]
  },
  {
   "cell_type": "code",
   "execution_count": null,
   "id": "ea5ec3ea",
   "metadata": {},
   "outputs": [],
   "source": [
    "print('Deep train accuracy')\n",
    "pred_train = predict_softmax(X_train, Y_train, model)\n",
    "print(pred_train)"
   ]
  },
  {
   "cell_type": "code",
   "execution_count": null,
   "id": "01699b30",
   "metadata": {},
   "outputs": [],
   "source": [
    "print('Deep test accuracy')\n",
    "pred_test = predict_softmax(X_test, Y_test, model)\n",
    "print(pred_test)"
   ]
  },
  {
   "cell_type": "code",
   "execution_count": null,
   "id": "5f8cee6a",
   "metadata": {},
   "outputs": [],
   "source": [
    "i = 4\n",
    "print('train', str(i), str(pred_train[i][i] / np.sum(pred_train[:, i])))\n",
    "print('test', str(i), str(pred_test[i][i] / np.sum(pred_test[:, i])))"
   ]
  },
  {
   "cell_type": "code",
   "execution_count": null,
   "id": "35677861",
   "metadata": {},
   "outputs": [],
   "source": []
  }
 ],
 "metadata": {
  "kernelspec": {
   "display_name": "Python 3 (ipykernel)",
   "language": "python",
   "name": "python3"
  },
  "language_info": {
   "codemirror_mode": {
    "name": "ipython",
    "version": 3
   },
   "file_extension": ".py",
   "mimetype": "text/x-python",
   "name": "python",
   "nbconvert_exporter": "python",
   "pygments_lexer": "ipython3",
   "version": "3.9.6"
  }
 },
 "nbformat": 4,
 "nbformat_minor": 5
}
