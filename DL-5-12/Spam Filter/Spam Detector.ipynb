{
 "cells": [
  {
   "cell_type": "code",
   "execution_count": 84,
   "metadata": {},
   "outputs": [],
   "source": [
    "import os \n",
    "import zipfile\n",
    "\n",
    "import numpy as np\n",
    "import pandas as pd\n",
    "import matplotlib.pyplot as plt\n",
    "\n",
    "from sklearn.model_selection import train_test_split\n",
    "from sklearn.metrics import classification_report\n",
    "from sklearn.metrics import accuracy_score\n",
    "\n",
    "from tensorflow.keras.preprocessing.text import Tokenizer\n",
    "from tensorflow.keras.preprocessing.sequence import pad_sequences\n",
    "from tensorflow.keras.layers import Dense, Input, GlobalMaxPooling1D, Conv1D, MaxPooling1D\n",
    "from tensorflow.keras import Model\n",
    "from tensorflow.keras.layers import LSTM, Embedding\n",
    "from tensorflow.keras.callbacks import EarlyStopping"
   ]
  },
  {
   "cell_type": "markdown",
   "metadata": {},
   "source": [
    "# Data"
   ]
  },
  {
   "cell_type": "code",
   "execution_count": 5,
   "metadata": {},
   "outputs": [],
   "source": [
    "local_zip = 'spam-or-not.zip'\n",
    "zip_ref = zipfile.ZipFile(local_zip, 'r')\n",
    "zip_ref.extractall('/tmp')\n",
    "zip_ref.close()"
   ]
  },
  {
   "cell_type": "code",
   "execution_count": 70,
   "metadata": {},
   "outputs": [
    {
     "data": {
      "text/html": [
       "<div>\n",
       "<style scoped>\n",
       "    .dataframe tbody tr th:only-of-type {\n",
       "        vertical-align: middle;\n",
       "    }\n",
       "\n",
       "    .dataframe tbody tr th {\n",
       "        vertical-align: top;\n",
       "    }\n",
       "\n",
       "    .dataframe thead th {\n",
       "        text-align: right;\n",
       "    }\n",
       "</style>\n",
       "<table border=\"1\" class=\"dataframe\">\n",
       "  <thead>\n",
       "    <tr style=\"text-align: right;\">\n",
       "      <th></th>\n",
       "      <th>email</th>\n",
       "      <th>label</th>\n",
       "    </tr>\n",
       "  </thead>\n",
       "  <tbody>\n",
       "    <tr>\n",
       "      <th>0</th>\n",
       "      <td>date wed NUMBER aug NUMBER NUMBER NUMBER NUMB...</td>\n",
       "      <td>0</td>\n",
       "    </tr>\n",
       "    <tr>\n",
       "      <th>1</th>\n",
       "      <td>martin a posted tassos papadopoulos the greek ...</td>\n",
       "      <td>0</td>\n",
       "    </tr>\n",
       "    <tr>\n",
       "      <th>2</th>\n",
       "      <td>man threatens explosion in moscow thursday aug...</td>\n",
       "      <td>0</td>\n",
       "    </tr>\n",
       "    <tr>\n",
       "      <th>3</th>\n",
       "      <td>klez the virus that won t die already the most...</td>\n",
       "      <td>0</td>\n",
       "    </tr>\n",
       "    <tr>\n",
       "      <th>4</th>\n",
       "      <td>in adding cream to spaghetti carbonara which ...</td>\n",
       "      <td>0</td>\n",
       "    </tr>\n",
       "  </tbody>\n",
       "</table>\n",
       "</div>"
      ],
      "text/plain": [
       "                                               email  label\n",
       "0   date wed NUMBER aug NUMBER NUMBER NUMBER NUMB...      0\n",
       "1  martin a posted tassos papadopoulos the greek ...      0\n",
       "2  man threatens explosion in moscow thursday aug...      0\n",
       "3  klez the virus that won t die already the most...      0\n",
       "4   in adding cream to spaghetti carbonara which ...      0"
      ]
     },
     "execution_count": 70,
     "metadata": {},
     "output_type": "execute_result"
    }
   ],
   "source": [
    "df = pd.read_csv('/tmp/spam_or_not_spam.csv')\n",
    "df.head()"
   ]
  },
  {
   "cell_type": "code",
   "execution_count": 32,
   "metadata": {},
   "outputs": [
    {
     "data": {
      "text/plain": [
       "0    2500\n",
       "1     500\n",
       "Name: label, dtype: int64"
      ]
     },
     "execution_count": 32,
     "metadata": {},
     "output_type": "execute_result"
    }
   ],
   "source": [
    "df['label'].value_counts()"
   ]
  },
  {
   "cell_type": "code",
   "execution_count": 33,
   "metadata": {},
   "outputs": [
    {
     "name": "stdout",
     "output_type": "stream",
     "text": [
      "<class 'pandas.core.frame.DataFrame'>\n",
      "RangeIndex: 3000 entries, 0 to 2999\n",
      "Data columns (total 2 columns):\n",
      "email    2999 non-null object\n",
      "label    3000 non-null int64\n",
      "dtypes: int64(1), object(1)\n",
      "memory usage: 47.0+ KB\n"
     ]
    }
   ],
   "source": [
    "df.info()"
   ]
  },
  {
   "cell_type": "code",
   "execution_count": 34,
   "metadata": {},
   "outputs": [
    {
     "name": "stdout",
     "output_type": "stream",
     "text": [
      "<class 'pandas.core.frame.DataFrame'>\n",
      "Int64Index: 2999 entries, 0 to 2999\n",
      "Data columns (total 2 columns):\n",
      "email    2999 non-null object\n",
      "label    2999 non-null int64\n",
      "dtypes: int64(1), object(1)\n",
      "memory usage: 70.3+ KB\n"
     ]
    }
   ],
   "source": [
    "df = df.dropna()\n",
    "df.info()"
   ]
  },
  {
   "cell_type": "markdown",
   "metadata": {},
   "source": [
    "# splitting to train set and test set"
   ]
  },
  {
   "cell_type": "code",
   "execution_count": 113,
   "metadata": {},
   "outputs": [
    {
     "name": "stdout",
     "output_type": "stream",
     "text": [
      "(2400,) (2400,)\n",
      "(600,) (600,)\n"
     ]
    }
   ],
   "source": [
    "X_train, X_test, Y_train, Y_test = train_test_split(df['email'], df['label'], test_size=0.2)\n",
    "\n",
    "print(X_train.shape, Y_train.shape)\n",
    "print(X_test.shape, Y_test.shape)"
   ]
  },
  {
   "cell_type": "markdown",
   "metadata": {},
   "source": [
    "# Converting text to numbers"
   ]
  },
  {
   "cell_type": "code",
   "execution_count": 36,
   "metadata": {},
   "outputs": [],
   "source": [
    "MAX_VOACB_SIZE = 32000\n",
    "tokenizer = Tokenizer(num_words=MAX_VOACB_SIZE)\n",
    "tokenizer.fit_on_texts(X_train)\n",
    "\n",
    "sequence_train = tokenizer.texts_to_sequences(X_train)\n",
    "sequence_test = tokenizer.texts_to_sequences(X_test)"
   ]
  },
  {
   "cell_type": "code",
   "execution_count": 37,
   "metadata": {},
   "outputs": [
    {
     "name": "stdout",
     "output_type": "stream",
     "text": [
      "Found 30947 unique tokens\n"
     ]
    }
   ],
   "source": [
    "V = len(tokenizer.word_index)\n",
    "print(f'Found {V} unique tokens')"
   ]
  },
  {
   "cell_type": "code",
   "execution_count": 39,
   "metadata": {
    "scrolled": true
   },
   "outputs": [
    {
     "data": {
      "text/plain": [
       "{'number': 1,\n",
       " 'the': 2,\n",
       " 'to': 3,\n",
       " 'of': 4,\n",
       " 'and': 5,\n",
       " 'a': 6,\n",
       " 'in': 7,\n",
       " 'i': 8,\n",
       " 'url': 9,\n",
       " 'is': 10,\n",
       " 'that': 11,\n",
       " 'you': 12,\n",
       " 'it': 13,\n",
       " 'for': 14,\n",
       " 'this': 15,\n",
       " 'on': 16,\n",
       " 's': 17,\n",
       " 'with': 18,\n",
       " 'be': 19,\n",
       " 'have': 20,\n",
       " 'from': 21,\n",
       " 'not': 22,\n",
       " 'are': 23,\n",
       " 't': 24,\n",
       " 'as': 25,\n",
       " 'or': 26,\n",
       " 'your': 27,\n",
       " 'at': 28,\n",
       " 'by': 29,\n",
       " 'if': 30,\n",
       " 'but': 31,\n",
       " 'was': 32,\n",
       " 'we': 33,\n",
       " 'can': 34,\n",
       " 'an': 35,\n",
       " 'all': 36,\n",
       " 'list': 37,\n",
       " 'they': 38,\n",
       " 'will': 39,\n",
       " 'my': 40,\n",
       " 'so': 41,\n",
       " 'has': 42,\n",
       " 'more': 43,\n",
       " 'one': 44,\n",
       " 'do': 45,\n",
       " 'there': 46,\n",
       " 'get': 47,\n",
       " 'just': 48,\n",
       " 'out': 49,\n",
       " 'about': 50,\n",
       " 'no': 51,\n",
       " 'what': 52,\n",
       " 'which': 53,\n",
       " 'our': 54,\n",
       " 'people': 55,\n",
       " 'he': 56,\n",
       " 'time': 57,\n",
       " 'would': 58,\n",
       " 'up': 59,\n",
       " 'their': 60,\n",
       " 'only': 61,\n",
       " 'like': 62,\n",
       " 'use': 63,\n",
       " 'who': 64,\n",
       " 'any': 65,\n",
       " 'free': 66,\n",
       " 'new': 67,\n",
       " 'now': 68,\n",
       " 'email': 69,\n",
       " 'me': 70,\n",
       " 'don': 71,\n",
       " 'some': 72,\n",
       " 'when': 73,\n",
       " 'here': 74,\n",
       " 'been': 75,\n",
       " 'other': 76,\n",
       " 'mail': 77,\n",
       " 'm': 78,\n",
       " 'than': 79,\n",
       " 'how': 80,\n",
       " 'e': 81,\n",
       " 'wrote': 82,\n",
       " 'them': 83,\n",
       " 'rpm': 84,\n",
       " 'then': 85,\n",
       " 'make': 86,\n",
       " 'also': 87,\n",
       " 'mailing': 88,\n",
       " 'date': 89,\n",
       " 'message': 90,\n",
       " 'said': 91,\n",
       " 'his': 92,\n",
       " 'had': 93,\n",
       " 'because': 94,\n",
       " 're': 95,\n",
       " 'into': 96,\n",
       " 'world': 97,\n",
       " 'over': 98,\n",
       " 'were': 99,\n",
       " 'd': 100,\n",
       " 'its': 101,\n",
       " 'spamassassin': 102,\n",
       " 'c': 103,\n",
       " 'first': 104,\n",
       " 'way': 105,\n",
       " 'us': 106,\n",
       " 'hyperlink': 107,\n",
       " 'think': 108,\n",
       " 'could': 109,\n",
       " 'money': 110,\n",
       " 'users': 111,\n",
       " 'even': 112,\n",
       " 'information': 113,\n",
       " 've': 114,\n",
       " 'should': 115,\n",
       " 'these': 116,\n",
       " 'work': 117,\n",
       " 'most': 118,\n",
       " 'spam': 119,\n",
       " 'know': 120,\n",
       " 'want': 121,\n",
       " 'see': 122,\n",
       " 'where': 123,\n",
       " 'exmh': 124,\n",
       " 'after': 125,\n",
       " 'please': 126,\n",
       " 'well': 127,\n",
       " 'does': 128,\n",
       " 'same': 129,\n",
       " 'much': 130,\n",
       " 'good': 131,\n",
       " 'may': 132,\n",
       " 'those': 133,\n",
       " 'many': 134,\n",
       " 'll': 135,\n",
       " 'using': 136,\n",
       " 'business': 137,\n",
       " 'need': 138,\n",
       " 'send': 139,\n",
       " 'linux': 140,\n",
       " 'very': 141,\n",
       " 'years': 142,\n",
       " 'am': 143,\n",
       " 'go': 144,\n",
       " 'line': 145,\n",
       " 'before': 146,\n",
       " 'right': 147,\n",
       " 'name': 148,\n",
       " 'subject': 149,\n",
       " 'net': 150,\n",
       " 'such': 151,\n",
       " 'internet': 152,\n",
       " 'file': 153,\n",
       " 'being': 154,\n",
       " 'two': 155,\n",
       " 'through': 156,\n",
       " 'find': 157,\n",
       " 'report': 158,\n",
       " 'take': 159,\n",
       " 'still': 160,\n",
       " 'government': 161,\n",
       " 'system': 162,\n",
       " 'something': 163,\n",
       " 'group': 164,\n",
       " 'home': 165,\n",
       " 'com': 166,\n",
       " 'best': 167,\n",
       " 'too': 168,\n",
       " 'software': 169,\n",
       " 'sep': 170,\n",
       " 'really': 171,\n",
       " 'razor': 172,\n",
       " 'own': 173,\n",
       " 'few': 174,\n",
       " 'company': 175,\n",
       " 'year': 176,\n",
       " 'click': 177,\n",
       " 'web': 178,\n",
       " 'address': 179,\n",
       " 'each': 180,\n",
       " 'day': 181,\n",
       " 'made': 182,\n",
       " 'every': 183,\n",
       " 'help': 184,\n",
       " 'problem': 185,\n",
       " 'why': 186,\n",
       " 'since': 187,\n",
       " 'old': 188,\n",
       " 'say': 189,\n",
       " 'data': 190,\n",
       " 'down': 191,\n",
       " 'change': 192,\n",
       " 'today': 193,\n",
       " 'used': 194,\n",
       " 'talk': 195,\n",
       " 'long': 196,\n",
       " 'last': 197,\n",
       " 'back': 198,\n",
       " 'unsubscribe': 199,\n",
       " 'messages': 200,\n",
       " 'did': 201,\n",
       " 'off': 202,\n",
       " 'states': 203,\n",
       " 'run': 204,\n",
       " 'next': 205,\n",
       " 'without': 206,\n",
       " 'going': 207,\n",
       " 'set': 208,\n",
       " 'state': 209,\n",
       " 'sent': 210,\n",
       " 'f': 211,\n",
       " 'fork': 212,\n",
       " 'phone': 213,\n",
       " 'sure': 214,\n",
       " 'check': 215,\n",
       " 'link': 216,\n",
       " 'another': 217,\n",
       " 'better': 218,\n",
       " 'numbertnumber': 219,\n",
       " 'while': 220,\n",
       " 'got': 221,\n",
       " 'again': 222,\n",
       " 'l': 223,\n",
       " 'order': 224,\n",
       " 'r': 225,\n",
       " 'doesn': 226,\n",
       " 'mr': 227,\n",
       " 'found': 228,\n",
       " 'perl': 229,\n",
       " 'must': 230,\n",
       " 'de': 231,\n",
       " 'end': 232,\n",
       " 'files': 233,\n",
       " 'technology': 234,\n",
       " 'once': 235,\n",
       " 'companies': 236,\n",
       " 'united': 237,\n",
       " 'try': 238,\n",
       " 'service': 239,\n",
       " 'might': 240,\n",
       " 'real': 241,\n",
       " 'give': 242,\n",
       " 'receive': 243,\n",
       " 'computer': 244,\n",
       " 'things': 245,\n",
       " 'never': 246,\n",
       " 'life': 247,\n",
       " 'security': 248,\n",
       " 'look': 249,\n",
       " 'anyone': 250,\n",
       " 'million': 251,\n",
       " 'code': 252,\n",
       " 'case': 253,\n",
       " 'different': 254,\n",
       " 'groups': 255,\n",
       " 'thing': 256,\n",
       " 'u': 257,\n",
       " 'yes': 258,\n",
       " 'she': 259,\n",
       " 'read': 260,\n",
       " 'user': 261,\n",
       " 'within': 262,\n",
       " 'her': 263,\n",
       " 'september': 264,\n",
       " 'thanks': 265,\n",
       " 'great': 266,\n",
       " 'actually': 267,\n",
       " 'program': 268,\n",
       " 'site': 269,\n",
       " 'yahoo': 270,\n",
       " 'original': 271,\n",
       " 'anything': 272,\n",
       " 'package': 273,\n",
       " 'xml': 274,\n",
       " 'news': 275,\n",
       " 'both': 276,\n",
       " 'received': 277,\n",
       " 'against': 278,\n",
       " 'point': 279,\n",
       " 'server': 280,\n",
       " 'probably': 281,\n",
       " 'keep': 282,\n",
       " 'part': 283,\n",
       " 'per': 284,\n",
       " 'sponsored': 285,\n",
       " 'mailto': 286,\n",
       " 'high': 287,\n",
       " 'based': 288,\n",
       " 'around': 289,\n",
       " 'between': 290,\n",
       " 'error': 291,\n",
       " 'someone': 292,\n",
       " 'version': 293,\n",
       " 'freshrpms': 294,\n",
       " 'didn': 295,\n",
       " 'less': 296,\n",
       " 'president': 297,\n",
       " 'times': 298,\n",
       " 'put': 299,\n",
       " 'bush': 300,\n",
       " 'looking': 301,\n",
       " 'html': 302,\n",
       " 'done': 303,\n",
       " 'call': 304,\n",
       " 'x': 305,\n",
       " 'market': 306,\n",
       " 'come': 307,\n",
       " 'under': 308,\n",
       " 'seems': 309,\n",
       " 'support': 310,\n",
       " 'says': 311,\n",
       " 'start': 312,\n",
       " 'etc': 313,\n",
       " 'won': 314,\n",
       " 'let': 315,\n",
       " 'course': 316,\n",
       " 'services': 317,\n",
       " 'apt': 318,\n",
       " 'war': 319,\n",
       " 'least': 320,\n",
       " 'remove': 321,\n",
       " 'matthias': 322,\n",
       " 'easy': 323,\n",
       " 'working': 324,\n",
       " 'though': 325,\n",
       " 'network': 326,\n",
       " 'below': 327,\n",
       " 'doing': 328,\n",
       " 'running': 329,\n",
       " 'un': 330,\n",
       " 'future': 331,\n",
       " 'build': 332,\n",
       " 'text': 333,\n",
       " 'release': 334,\n",
       " 'w': 335,\n",
       " 'folder': 336,\n",
       " 'american': 337,\n",
       " 'lot': 338,\n",
       " 'problems': 339,\n",
       " 'current': 340,\n",
       " 'root': 341,\n",
       " 'n': 342,\n",
       " 'place': 343,\n",
       " 'little': 344,\n",
       " 'following': 345,\n",
       " 'country': 346,\n",
       " 'form': 347,\n",
       " 'else': 348,\n",
       " 'ever': 349,\n",
       " 'access': 350,\n",
       " 'trying': 351,\n",
       " 'wish': 352,\n",
       " 'kernel': 353,\n",
       " 'idea': 354,\n",
       " 'maybe': 355,\n",
       " 'pm': 356,\n",
       " 'b': 357,\n",
       " 'him': 358,\n",
       " 'available': 359,\n",
       " 'total': 360,\n",
       " 'stuff': 361,\n",
       " 'test': 362,\n",
       " 'always': 363,\n",
       " 'type': 364,\n",
       " 'instead': 365,\n",
       " 'red': 366,\n",
       " 'yet': 367,\n",
       " 'works': 368,\n",
       " 'getting': 369,\n",
       " 'ac': 370,\n",
       " 'public': 371,\n",
       " 'log': 372,\n",
       " 'source': 373,\n",
       " 'removed': 374,\n",
       " 'local': 375,\n",
       " 'content': 376,\n",
       " 'offer': 377,\n",
       " 'law': 378,\n",
       " 'example': 379,\n",
       " 'however': 380,\n",
       " 'week': 381,\n",
       " 'marketing': 382,\n",
       " 'isn': 383,\n",
       " 'possible': 384,\n",
       " 'supplied': 385,\n",
       " 'days': 386,\n",
       " 'nothing': 387,\n",
       " 'page': 388,\n",
       " 'p': 389,\n",
       " 'already': 390,\n",
       " 'communications': 391,\n",
       " 'alb': 392,\n",
       " 'called': 393,\n",
       " 'special': 394,\n",
       " 'pay': 395,\n",
       " 'admin': 396,\n",
       " 'far': 397,\n",
       " 'add': 398,\n",
       " 'making': 399,\n",
       " 'rights': 400,\n",
       " 'contact': 401,\n",
       " 'big': 402,\n",
       " 'having': 403,\n",
       " 'enough': 404,\n",
       " 'investment': 405,\n",
       " 'political': 406,\n",
       " 'price': 407,\n",
       " 'en': 408,\n",
       " 'open': 409,\n",
       " 'thought': 410,\n",
       " 'full': 411,\n",
       " 'non': 412,\n",
       " 'tell': 413,\n",
       " 'alsa': 414,\n",
       " 'subscription': 415,\n",
       " 'online': 416,\n",
       " 'trade': 417,\n",
       " 'hat': 418,\n",
       " 'o': 419,\n",
       " 'seen': 420,\n",
       " 'fact': 421,\n",
       " 'j': 422,\n",
       " 'either': 423,\n",
       " 'months': 424,\n",
       " 'key': 425,\n",
       " 'redhat': 426,\n",
       " 'national': 427,\n",
       " 'including': 428,\n",
       " 'top': 429,\n",
       " 'until': 430,\n",
       " 'large': 431,\n",
       " 'sites': 432,\n",
       " 'lists': 433,\n",
       " 'second': 434,\n",
       " 'global': 435,\n",
       " 'bit': 436,\n",
       " 'numbers': 437,\n",
       " 'aug': 438,\n",
       " 'believe': 439,\n",
       " 'include': 440,\n",
       " 'industry': 441,\n",
       " 'others': 442,\n",
       " 'irish': 443,\n",
       " 'important': 444,\n",
       " 'true': 445,\n",
       " 'tried': 446,\n",
       " 'wrong': 447,\n",
       " 'three': 448,\n",
       " 'simple': 449,\n",
       " 'america': 450,\n",
       " 'usr': 451,\n",
       " 'ago': 452,\n",
       " 'writes': 453,\n",
       " 'remember': 454,\n",
       " 'ilug': 455,\n",
       " 'rather': 456,\n",
       " 'issue': 457,\n",
       " 'account': 458,\n",
       " 'show': 459,\n",
       " 'women': 460,\n",
       " 'datapower': 461,\n",
       " 'provide': 462,\n",
       " 'cash': 463,\n",
       " 'often': 464,\n",
       " 'office': 465,\n",
       " 'discuss': 466,\n",
       " 'cd': 467,\n",
       " 'able': 468,\n",
       " 'experience': 469,\n",
       " 'hard': 470,\n",
       " 'month': 471,\n",
       " 'dollars': 472,\n",
       " 'buy': 473,\n",
       " 'packages': 474,\n",
       " 'inumber': 475,\n",
       " 'g': 476,\n",
       " 'h': 477,\n",
       " 'means': 478,\n",
       " 'small': 479,\n",
       " 'hours': 480,\n",
       " 'installed': 481,\n",
       " 'live': 482,\n",
       " 'legal': 483,\n",
       " 'person': 484,\n",
       " 'act': 485,\n",
       " 'development': 486,\n",
       " 'move': 487,\n",
       " 'story': 488,\n",
       " 'man': 489,\n",
       " 'mails': 490,\n",
       " 'value': 491,\n",
       " 'unseen': 492,\n",
       " 'drive': 493,\n",
       " 'quite': 494,\n",
       " 'financial': 495,\n",
       " 'given': 496,\n",
       " 'receiving': 497,\n",
       " 'whole': 498,\n",
       " 'maintainer': 499,\n",
       " 'power': 500,\n",
       " 'away': 501,\n",
       " 'systems': 502,\n",
       " 'install': 503,\n",
       " 'question': 504,\n",
       " 'further': 505,\n",
       " 'simply': 506,\n",
       " 'policy': 507,\n",
       " 'save': 508,\n",
       " 'chris': 509,\n",
       " 'whether': 510,\n",
       " 'control': 511,\n",
       " 'upon': 512,\n",
       " 'income': 513,\n",
       " 'kind': 514,\n",
       " 'family': 515,\n",
       " 'via': 516,\n",
       " 'forteana': 517,\n",
       " 'came': 518,\n",
       " 'reason': 519,\n",
       " 'past': 520,\n",
       " 'lost': 521,\n",
       " 'box': 522,\n",
       " 'deal': 523,\n",
       " 'listmaster': 524,\n",
       " 'enenkio': 525,\n",
       " 'post': 526,\n",
       " 'went': 527,\n",
       " 'write': 528,\n",
       " 'dvd': 529,\n",
       " 'friends': 530,\n",
       " 'info': 531,\n",
       " 'above': 532,\n",
       " 'results': 533,\n",
       " 'k': 534,\n",
       " 'response': 535,\n",
       " 'stop': 536,\n",
       " 'job': 537,\n",
       " 'capital': 538,\n",
       " 'during': 539,\n",
       " 'become': 540,\n",
       " 'personal': 541,\n",
       " 'java': 542,\n",
       " 'bad': 543,\n",
       " 'welcome': 544,\n",
       " 'guide': 545,\n",
       " 'city': 546,\n",
       " 'reply': 547,\n",
       " 'half': 548,\n",
       " 'makes': 549,\n",
       " 'cell': 550,\n",
       " 'everything': 551,\n",
       " 'seem': 552,\n",
       " 'bill': 553,\n",
       " 'directory': 554,\n",
       " 'mean': 555,\n",
       " 'product': 556,\n",
       " 'currently': 557,\n",
       " 'names': 558,\n",
       " 'orders': 559,\n",
       " 'lib': 560,\n",
       " 'windows': 561,\n",
       " 'return': 562,\n",
       " 'center': 563,\n",
       " 'international': 564,\n",
       " 'later': 565,\n",
       " 'word': 566,\n",
       " 'thousands': 567,\n",
       " 'training': 568,\n",
       " 'federal': 569,\n",
       " 'general': 570,\n",
       " 'rate': 571,\n",
       " 'several': 572,\n",
       " 'understand': 573,\n",
       " 'cost': 574,\n",
       " 'wed': 575,\n",
       " 'http': 576,\n",
       " 'pretty': 577,\n",
       " 'database': 578,\n",
       " 'weeks': 579,\n",
       " 'john': 580,\n",
       " 'interest': 581,\n",
       " 'process': 582,\n",
       " 'force': 583,\n",
       " 'grants': 584,\n",
       " 'bank': 585,\n",
       " 'reports': 586,\n",
       " 'allow': 587,\n",
       " 'ham': 588,\n",
       " 'programs': 589,\n",
       " 'easily': 590,\n",
       " 'learn': 591,\n",
       " 'search': 592,\n",
       " 'told': 593,\n",
       " 'powell': 594,\n",
       " 'workers': 595,\n",
       " 'party': 596,\n",
       " 'devel': 597,\n",
       " 'card': 598,\n",
       " 'networks': 599,\n",
       " 'copy': 600,\n",
       " 'base': 601,\n",
       " 'known': 602,\n",
       " 'major': 603,\n",
       " 'products': 604,\n",
       " 'sending': 605,\n",
       " 'performance': 606,\n",
       " 'opportunity': 607,\n",
       " 'msgs': 608,\n",
       " 'low': 609,\n",
       " 'application': 610,\n",
       " 'hit': 611,\n",
       " 'inc': 612,\n",
       " 'anyway': 613,\n",
       " 'sell': 614,\n",
       " 'mind': 615,\n",
       " 'hand': 616,\n",
       " 'addresses': 617,\n",
       " 'august': 618,\n",
       " 'exactly': 619,\n",
       " 'tired': 620,\n",
       " 'needs': 621,\n",
       " 'due': 622,\n",
       " 'economic': 623,\n",
       " 'ok': 624,\n",
       " 'dave': 625,\n",
       " 'copyright': 626,\n",
       " 'google': 627,\n",
       " 'step': 628,\n",
       " 'digital': 629,\n",
       " 'countries': 630,\n",
       " 'perhaps': 631,\n",
       " 'share': 632,\n",
       " 'geek': 633,\n",
       " 'emails': 634,\n",
       " 'rates': 635,\n",
       " 'although': 636,\n",
       " 'mon': 637,\n",
       " 'false': 638,\n",
       " 'gets': 639,\n",
       " 'join': 640,\n",
       " 'men': 641,\n",
       " 'words': 642,\n",
       " 'almost': 643,\n",
       " 'thu': 644,\n",
       " 'private': 645,\n",
       " 'note': 646,\n",
       " 'single': 647,\n",
       " 'management': 648,\n",
       " 'configure': 649,\n",
       " 'client': 650,\n",
       " 'numberth': 651,\n",
       " 'transaction': 652,\n",
       " 'added': 653,\n",
       " 'ideas': 654,\n",
       " 'fast': 655,\n",
       " 'house': 656,\n",
       " 'school': 657,\n",
       " 'level': 658,\n",
       " 'hi': 659,\n",
       " 'et': 660,\n",
       " 'started': 661,\n",
       " 'article': 662,\n",
       " 'human': 663,\n",
       " 'freedom': 664,\n",
       " 'required': 665,\n",
       " 'heaven': 666,\n",
       " 'book': 667,\n",
       " 'looks': 668,\n",
       " 'kingdom': 669,\n",
       " 'foreign': 670,\n",
       " 'administration': 671,\n",
       " 'left': 672,\n",
       " 'love': 673,\n",
       " 'lines': 674,\n",
       " 'domain': 675,\n",
       " 'street': 676,\n",
       " 'claim': 677,\n",
       " 'sex': 678,\n",
       " 'complete': 679,\n",
       " 'risk': 680,\n",
       " 'echo': 681,\n",
       " 'mark': 682,\n",
       " 'letter': 683,\n",
       " 'islands': 684,\n",
       " 'research': 685,\n",
       " 'feel': 686,\n",
       " 'happy': 687,\n",
       " 'needed': 688,\n",
       " 'cvs': 689,\n",
       " 'python': 690,\n",
       " 'growing': 691,\n",
       " 'beberg': 692,\n",
       " 'recent': 693,\n",
       " 'similar': 694,\n",
       " 'latest': 695,\n",
       " 'air': 696,\n",
       " 'fax': 697,\n",
       " 'load': 698,\n",
       " 'matter': 699,\n",
       " 'self': 700,\n",
       " 'wanted': 701,\n",
       " 'university': 702,\n",
       " 'monday': 703,\n",
       " 'plan': 704,\n",
       " 'plus': 705,\n",
       " 'oct': 706,\n",
       " 'size': 707,\n",
       " 'headers': 708,\n",
       " 'osdn': 709,\n",
       " 'daily': 710,\n",
       " 'bug': 711,\n",
       " 'professional': 712,\n",
       " 'header': 713,\n",
       " 'worked': 714,\n",
       " 'nice': 715,\n",
       " 'method': 716,\n",
       " 'five': 717,\n",
       " 'preferences': 718,\n",
       " 'york': 719,\n",
       " 'insurance': 720,\n",
       " 'cannot': 721,\n",
       " 'secure': 722,\n",
       " 'offers': 723,\n",
       " 'visit': 724,\n",
       " 'goes': 725,\n",
       " 'protect': 726,\n",
       " 'sa': 727,\n",
       " 'window': 728,\n",
       " 'early': 729,\n",
       " 'behalf': 730,\n",
       " 'rules': 731,\n",
       " 'thinking': 732,\n",
       " 'credit': 733,\n",
       " 'reading': 734,\n",
       " 'customers': 735,\n",
       " 'signature': 736,\n",
       " 'thinkgeek': 737,\n",
       " 'website': 738,\n",
       " 'bitbitch': 739,\n",
       " 'changed': 740,\n",
       " 'amount': 741,\n",
       " 'soon': 742,\n",
       " 'procmail': 743,\n",
       " 'hardware': 744,\n",
       " 'device': 745,\n",
       " 'select': 746,\n",
       " 'design': 747,\n",
       " 'increase': 748,\n",
       " 'fall': 749,\n",
       " 'numberpm': 750,\n",
       " 'project': 751,\n",
       " 'os': 752,\n",
       " 'language': 753,\n",
       " 'adam': 754,\n",
       " 'respect': 755,\n",
       " 'robert': 756,\n",
       " 'posted': 757,\n",
       " 'area': 758,\n",
       " 'father': 759,\n",
       " 'immediately': 760,\n",
       " 'everyone': 761,\n",
       " 'play': 762,\n",
       " 'across': 763,\n",
       " 'social': 764,\n",
       " 'hettinga': 765,\n",
       " 'interesting': 766,\n",
       " 'except': 767,\n",
       " 'military': 768,\n",
       " 'space': 769,\n",
       " 'feature': 770,\n",
       " 'create': 771,\n",
       " 'saou': 772,\n",
       " 'game': 773,\n",
       " 'short': 774,\n",
       " 'tools': 775,\n",
       " 'paid': 776,\n",
       " 'term': 777,\n",
       " 'partners': 778,\n",
       " 'lawrence': 779,\n",
       " 'limited': 780,\n",
       " 'along': 781,\n",
       " 'tim': 782,\n",
       " 'finding': 783,\n",
       " 'success': 784,\n",
       " 'membership': 785,\n",
       " 'sort': 786,\n",
       " 'media': 787,\n",
       " 'recently': 788,\n",
       " 'answer': 789,\n",
       " 'direct': 790,\n",
       " 'applications': 791,\n",
       " 'v': 792,\n",
       " 'cc': 793,\n",
       " 'third': 794,\n",
       " 'regards': 795,\n",
       " 'corporation': 796,\n",
       " 'happen': 797,\n",
       " 'finally': 798,\n",
       " 'worth': 799,\n",
       " 'especially': 800,\n",
       " 'update': 801,\n",
       " 'clear': 802,\n",
       " 'sequences': 803,\n",
       " 'white': 804,\n",
       " 'sound': 805,\n",
       " 'building': 806,\n",
       " 'care': 807,\n",
       " 'sun': 808,\n",
       " 'fill': 809,\n",
       " 'gary': 810,\n",
       " 'specific': 811,\n",
       " 'hope': 812,\n",
       " 'advertising': 813,\n",
       " 'comes': 814,\n",
       " 'october': 815,\n",
       " 'mass': 816,\n",
       " 'machine': 817,\n",
       " 'ask': 818,\n",
       " 'trading': 819,\n",
       " 'speech': 820,\n",
       " 'guess': 821,\n",
       " 'talking': 822,\n",
       " 'pacific': 823,\n",
       " 'yourself': 824,\n",
       " 'coming': 825,\n",
       " 'average': 826,\n",
       " 'sponsor': 827,\n",
       " 'spamd': 828,\n",
       " 'haven': 829,\n",
       " 'begin': 830,\n",
       " 'includes': 831,\n",
       " 'unless': 832,\n",
       " 'action': 833,\n",
       " 'processing': 834,\n",
       " 'french': 835,\n",
       " 'absolutely': 836,\n",
       " 'main': 837,\n",
       " 'fine': 838,\n",
       " 'likely': 839,\n",
       " 'record': 840,\n",
       " 'nation': 841,\n",
       " 'thank': 842,\n",
       " 'press': 843,\n",
       " 'continue': 844,\n",
       " 'standard': 845,\n",
       " 'changes': 846,\n",
       " 'together': 847,\n",
       " 'saying': 848,\n",
       " 'transfer': 849,\n",
       " 'spec': 850,\n",
       " 'follow': 851,\n",
       " 'rah': 852,\n",
       " 'issues': 853,\n",
       " 'particular': 854,\n",
       " 'late': 855,\n",
       " 'heard': 856,\n",
       " 'la': 857,\n",
       " 'ability': 858,\n",
       " 'q': 859,\n",
       " 'pick': 860,\n",
       " 'congress': 861,\n",
       " 'department': 862,\n",
       " 'washington': 863,\n",
       " 'potential': 864,\n",
       " 'clean': 865,\n",
       " 'face': 866,\n",
       " 'wasn': 867,\n",
       " 'wouldn': 868,\n",
       " 'quality': 869,\n",
       " 'rss': 870,\n",
       " 'according': 871,\n",
       " 'whatever': 872,\n",
       " 'itself': 873,\n",
       " 'property': 874,\n",
       " 'stock': 875,\n",
       " 'built': 876,\n",
       " 'image': 877,\n",
       " 'longer': 878,\n",
       " 'south': 879,\n",
       " 'custom': 880,\n",
       " 'knowledge': 881,\n",
       " 'took': 882,\n",
       " 'notice': 883,\n",
       " 'wants': 884,\n",
       " 'six': 885,\n",
       " 'lots': 886,\n",
       " 'entire': 887,\n",
       " 'asked': 888,\n",
       " 'forwarded': 889,\n",
       " 'usa': 890,\n",
       " 'king': 891,\n",
       " 'nations': 892,\n",
       " 'effort': 893,\n",
       " 'community': 894,\n",
       " 'commission': 895,\n",
       " 'agree': 896,\n",
       " 'pgp': 897,\n",
       " 'writing': 898,\n",
       " 'history': 899,\n",
       " 'fund': 900,\n",
       " 'close': 901,\n",
       " 'le': 902,\n",
       " 'james': 903,\n",
       " 'tue': 904,\n",
       " 'death': 905,\n",
       " 'taken': 906,\n",
       " 'view': 907,\n",
       " 'figure': 908,\n",
       " 'included': 909,\n",
       " 'head': 910,\n",
       " 'society': 911,\n",
       " 'accept': 912,\n",
       " 'members': 913,\n",
       " 'choice': 914,\n",
       " 'paper': 915,\n",
       " 'platform': 916,\n",
       " 'interested': 917,\n",
       " 'oh': 918,\n",
       " 'sales': 919,\n",
       " 'msg': 920,\n",
       " 'rpms': 921,\n",
       " 'agent': 922,\n",
       " 'status': 923,\n",
       " 'living': 924,\n",
       " 'sense': 925,\n",
       " 'requires': 926,\n",
       " 'friend': 927,\n",
       " 'body': 928,\n",
       " 'assistance': 929,\n",
       " 'murphy': 930,\n",
       " 'successful': 931,\n",
       " 'gives': 932,\n",
       " 'secret': 933,\n",
       " 'tuesday': 934,\n",
       " 'video': 935,\n",
       " 'spammers': 936,\n",
       " 'folks': 937,\n",
       " 'marshall': 938,\n",
       " 'turn': 939,\n",
       " 'hundreds': 940,\n",
       " 'willing': 941,\n",
       " 'happened': 942,\n",
       " 'speed': 943,\n",
       " 'dvds': 944,\n",
       " 'opt': 945,\n",
       " 'solution': 946,\n",
       " 'script': 947,\n",
       " 'energy': 948,\n",
       " 'atoll': 949,\n",
       " 'benefit': 950,\n",
       " 'forward': 951,\n",
       " 'questions': 952,\n",
       " 'member': 953,\n",
       " 'decided': 954,\n",
       " 'useful': 955,\n",
       " 'various': 956,\n",
       " 'programming': 957,\n",
       " 'quick': 958,\n",
       " 'guarantee': 959,\n",
       " 'exist': 960,\n",
       " 'instructions': 961,\n",
       " 'rest': 962,\n",
       " 'terms': 963,\n",
       " 'command': 964,\n",
       " 'night': 965,\n",
       " 'valuable': 966,\n",
       " 'team': 967,\n",
       " 'co': 968,\n",
       " 'certainly': 969,\n",
       " 'provided': 970,\n",
       " 'cause': 971,\n",
       " 'selling': 972,\n",
       " 'sequence': 973,\n",
       " 'generation': 974,\n",
       " 'takes': 975,\n",
       " 'jeremy': 976,\n",
       " 'des': 977,\n",
       " 'details': 978,\n",
       " 'request': 979,\n",
       " 'links': 980,\n",
       " 'four': 981,\n",
       " 'rule': 982,\n",
       " 'couldn': 983,\n",
       " 'clients': 984,\n",
       " 'car': 985,\n",
       " 'west': 986,\n",
       " 'greg': 987,\n",
       " 'rh': 988,\n",
       " 'display': 989,\n",
       " 'completely': 990,\n",
       " 'france': 991,\n",
       " 'whose': 992,\n",
       " 'involved': 993,\n",
       " 'michael': 994,\n",
       " 'canada': 995,\n",
       " 'ways': 996,\n",
       " 'geege': 997,\n",
       " 'guys': 998,\n",
       " 'id': 999,\n",
       " 'reported': 1000,\n",
       " ...}"
      ]
     },
     "execution_count": 39,
     "metadata": {},
     "output_type": "execute_result"
    }
   ],
   "source": [
    "tokenizer.word_index"
   ]
  },
  {
   "cell_type": "code",
   "execution_count": 38,
   "metadata": {},
   "outputs": [
    {
     "data": {
      "text/plain": [
       "'i just set up razor and spamassassin but i keep getting this error in my mail log file razorNUMBER check skipped no such file or directory can t call method log on unblessed reference at usr local lib perlNUMBER site_perl NUMBER NUMBER NUMBER razorNUMBER client agent pm line NUMBER i have looked through the archived list and the only thing i have seen about this error is a possible permission problem on the log file i did what it said in the archives basically change the permission on the file but its still no go any other help would be appreciated maybe i m missing something something i forgot to run or do rob this URL email is sponsored by osdn tired of that same old cell phone get a new here for free URL _______________________________________________ razor users mailing list razor users URL URL '"
      ]
     },
     "execution_count": 38,
     "metadata": {},
     "output_type": "execute_result"
    }
   ],
   "source": [
    "example = 3\n",
    "X_train.iloc[example]"
   ]
  },
  {
   "cell_type": "code",
   "execution_count": 40,
   "metadata": {},
   "outputs": [
    {
     "name": "stdout",
     "output_type": "stream",
     "text": [
      "8 48 208 59 172 5 102 31 8 282 369 15 291 7 40 77 372 153 1091 215 2991 51 151 153 26 554 34 24 304 716 372 16 3775 1330 28 451 375 560 1305 269 229 1 1 1 1091 650 922 356 145 1 8 20 1010 156 2 4857 37 5 2 61 256 8 20 420 50 15 291 10 6 384 1996 185 16 2 372 153 8 201 52 13 91 7 2 3586 1925 192 2 1996 16 2 153 31 101 160 51 144 65 76 184 58 19 2226 355 8 78 1615 163 163 8 2992 3 204 26 45 1306 15 9 69 10 285 29 709 620 4 11 129 188 550 213 47 6 67 74 14 66 9 172 111 88 37 172 111 9 9 "
     ]
    }
   ],
   "source": [
    "for i in sequence_train[example]:\n",
    "    print(i, end=' ')"
   ]
  },
  {
   "cell_type": "code",
   "execution_count": 47,
   "metadata": {},
   "outputs": [
    {
     "name": "stdout",
     "output_type": "stream",
     "text": [
      "i just set up razor and spamassassin but i keep getting this error in my mail log file razornumber check skipped no such file or directory can t call method log on unblessed reference at usr local lib perlnumber site perl number number number razornumber client agent pm line number i have looked through the archived list and the only thing i have seen about this error is a possible permission problem on the log file i did what it said in the archives basically change the permission on the file but its still no go any other help would be appreciated maybe i m missing something something i forgot to run or do rob this url email is sponsored by osdn tired of that same old cell phone get a new here for free url razor users mailing list razor users url url "
     ]
    }
   ],
   "source": [
    "for i in sequence_train[example]:\n",
    "    print(tokenizer.index_word[i], end=' ')"
   ]
  },
  {
   "cell_type": "code",
   "execution_count": 48,
   "metadata": {},
   "outputs": [
    {
     "data": {
      "text/html": [
       "<div>\n",
       "<style scoped>\n",
       "    .dataframe tbody tr th:only-of-type {\n",
       "        vertical-align: middle;\n",
       "    }\n",
       "\n",
       "    .dataframe tbody tr th {\n",
       "        vertical-align: top;\n",
       "    }\n",
       "\n",
       "    .dataframe thead th {\n",
       "        text-align: right;\n",
       "    }\n",
       "</style>\n",
       "<table border=\"1\" class=\"dataframe\">\n",
       "  <thead>\n",
       "    <tr style=\"text-align: right;\">\n",
       "      <th></th>\n",
       "      <th>len</th>\n",
       "    </tr>\n",
       "  </thead>\n",
       "  <tbody>\n",
       "    <tr>\n",
       "      <th>0</th>\n",
       "      <td>29</td>\n",
       "    </tr>\n",
       "    <tr>\n",
       "      <th>1</th>\n",
       "      <td>151</td>\n",
       "    </tr>\n",
       "    <tr>\n",
       "      <th>2</th>\n",
       "      <td>102</td>\n",
       "    </tr>\n",
       "    <tr>\n",
       "      <th>3</th>\n",
       "      <td>144</td>\n",
       "    </tr>\n",
       "    <tr>\n",
       "      <th>4</th>\n",
       "      <td>82</td>\n",
       "    </tr>\n",
       "    <tr>\n",
       "      <th>...</th>\n",
       "      <td>...</td>\n",
       "    </tr>\n",
       "    <tr>\n",
       "      <th>2394</th>\n",
       "      <td>109</td>\n",
       "    </tr>\n",
       "    <tr>\n",
       "      <th>2395</th>\n",
       "      <td>77</td>\n",
       "    </tr>\n",
       "    <tr>\n",
       "      <th>2396</th>\n",
       "      <td>124</td>\n",
       "    </tr>\n",
       "    <tr>\n",
       "      <th>2397</th>\n",
       "      <td>171</td>\n",
       "    </tr>\n",
       "    <tr>\n",
       "      <th>2398</th>\n",
       "      <td>30</td>\n",
       "    </tr>\n",
       "  </tbody>\n",
       "</table>\n",
       "<p>2399 rows × 1 columns</p>\n",
       "</div>"
      ],
      "text/plain": [
       "      len\n",
       "0      29\n",
       "1     151\n",
       "2     102\n",
       "3     144\n",
       "4      82\n",
       "...   ...\n",
       "2394  109\n",
       "2395   77\n",
       "2396  124\n",
       "2397  171\n",
       "2398   30\n",
       "\n",
       "[2399 rows x 1 columns]"
      ]
     },
     "execution_count": 48,
     "metadata": {},
     "output_type": "execute_result"
    }
   ],
   "source": [
    "text1 = [len(i) for i in sequence_train]\n",
    "pdtext1 = pd.DataFrame(text1, columns=['len'])\n",
    "pdtext1"
   ]
  },
  {
   "cell_type": "code",
   "execution_count": 50,
   "metadata": {},
   "outputs": [
    {
     "data": {
      "text/html": [
       "<div>\n",
       "<style scoped>\n",
       "    .dataframe tbody tr th:only-of-type {\n",
       "        vertical-align: middle;\n",
       "    }\n",
       "\n",
       "    .dataframe tbody tr th {\n",
       "        vertical-align: top;\n",
       "    }\n",
       "\n",
       "    .dataframe thead th {\n",
       "        text-align: right;\n",
       "    }\n",
       "</style>\n",
       "<table border=\"1\" class=\"dataframe\">\n",
       "  <thead>\n",
       "    <tr style=\"text-align: right;\">\n",
       "      <th></th>\n",
       "      <th>len</th>\n",
       "    </tr>\n",
       "  </thead>\n",
       "  <tbody>\n",
       "    <tr>\n",
       "      <th>count</th>\n",
       "      <td>2399.000000</td>\n",
       "    </tr>\n",
       "    <tr>\n",
       "      <th>mean</th>\n",
       "      <td>235.209254</td>\n",
       "    </tr>\n",
       "    <tr>\n",
       "      <th>std</th>\n",
       "      <td>543.872578</td>\n",
       "    </tr>\n",
       "    <tr>\n",
       "      <th>min</th>\n",
       "      <td>0.000000</td>\n",
       "    </tr>\n",
       "    <tr>\n",
       "      <th>25%</th>\n",
       "      <td>67.000000</td>\n",
       "    </tr>\n",
       "    <tr>\n",
       "      <th>50%</th>\n",
       "      <td>135.000000</td>\n",
       "    </tr>\n",
       "    <tr>\n",
       "      <th>75%</th>\n",
       "      <td>237.000000</td>\n",
       "    </tr>\n",
       "    <tr>\n",
       "      <th>max</th>\n",
       "      <td>13303.000000</td>\n",
       "    </tr>\n",
       "  </tbody>\n",
       "</table>\n",
       "</div>"
      ],
      "text/plain": [
       "                len\n",
       "count   2399.000000\n",
       "mean     235.209254\n",
       "std      543.872578\n",
       "min        0.000000\n",
       "25%       67.000000\n",
       "50%      135.000000\n",
       "75%      237.000000\n",
       "max    13303.000000"
      ]
     },
     "execution_count": 50,
     "metadata": {},
     "output_type": "execute_result"
    }
   ],
   "source": [
    "pdtext1.describe()"
   ]
  },
  {
   "cell_type": "code",
   "execution_count": 51,
   "metadata": {},
   "outputs": [
    {
     "data": {
      "text/plain": [
       "len    2335\n",
       "dtype: int64"
      ]
     },
     "execution_count": 51,
     "metadata": {},
     "output_type": "execute_result"
    }
   ],
   "source": [
    "pdtext1[(pdtext1['len'] <= 1000)].count()"
   ]
  },
  {
   "cell_type": "code",
   "execution_count": 53,
   "metadata": {},
   "outputs": [
    {
     "name": "stdout",
     "output_type": "stream",
     "text": [
      "Shape of data train tensor: (2399, 1000)\n"
     ]
    }
   ],
   "source": [
    "data_train = pad_sequences(sequence_train, maxlen=1000)\n",
    "print('Shape of data train tensor:', data_train.shape)\n",
    "\n",
    "T = data_train.shape[1]"
   ]
  },
  {
   "cell_type": "code",
   "execution_count": 66,
   "metadata": {
    "scrolled": false
   },
   "outputs": [
    {
     "data": {
      "text/plain": [
       "881     0\n",
       "1488    0\n",
       "1669    0\n",
       "1576    0\n",
       "863     0\n",
       "       ..\n",
       "149     0\n",
       "721     0\n",
       "431     0\n",
       "803     0\n",
       "2524    1\n",
       "Name: label, Length: 2399, dtype: int64"
      ]
     },
     "execution_count": 66,
     "metadata": {},
     "output_type": "execute_result"
    }
   ],
   "source": [
    "pd.DataFrame(data_train).head()"
   ]
  },
  {
   "cell_type": "code",
   "execution_count": 57,
   "metadata": {},
   "outputs": [
    {
     "name": "stdout",
     "output_type": "stream",
     "text": [
      "Shape of data test tensor: (600, 1000)\n"
     ]
    }
   ],
   "source": [
    "data_test = pad_sequences(sequence_test, maxlen=T)\n",
    "print('Shape of data test tensor:', data_test.shape)"
   ]
  },
  {
   "cell_type": "markdown",
   "metadata": {},
   "source": [
    "# RNN"
   ]
  },
  {
   "cell_type": "code",
   "execution_count": 61,
   "metadata": {},
   "outputs": [],
   "source": [
    "D = 20\n",
    "M = 15\n",
    "\n",
    "i = Input(shape=(T,))\n",
    "\n",
    "x = Embedding(V + 1, D)(i)\n",
    "\n",
    "x = LSTM(M, return_sequences=True)(x)\n",
    "\n",
    "x = GlobalMaxPooling1D()(x)\n",
    "\n",
    "x = Dense(1, activation='sigmoid')(x)\n",
    "\n",
    "model = Model(i, x)"
   ]
  },
  {
   "cell_type": "code",
   "execution_count": 62,
   "metadata": {},
   "outputs": [
    {
     "name": "stdout",
     "output_type": "stream",
     "text": [
      "Model: \"model\"\n",
      "_________________________________________________________________\n",
      "Layer (type)                 Output Shape              Param #   \n",
      "=================================================================\n",
      "input_2 (InputLayer)         [(None, 1000)]            0         \n",
      "_________________________________________________________________\n",
      "embedding_1 (Embedding)      (None, 1000, 20)          618960    \n",
      "_________________________________________________________________\n",
      "lstm_1 (LSTM)                (None, 1000, 15)          2160      \n",
      "_________________________________________________________________\n",
      "global_max_pooling1d_1 (Glob (None, 15)                0         \n",
      "_________________________________________________________________\n",
      "dense_1 (Dense)              (None, 1)                 16        \n",
      "=================================================================\n",
      "Total params: 621,136\n",
      "Trainable params: 621,136\n",
      "Non-trainable params: 0\n",
      "_________________________________________________________________\n"
     ]
    }
   ],
   "source": [
    "model.summary()"
   ]
  },
  {
   "cell_type": "code",
   "execution_count": 67,
   "metadata": {
    "scrolled": false
   },
   "outputs": [
    {
     "name": "stdout",
     "output_type": "stream",
     "text": [
      "Training model...\n",
      "Train on 2399 samples, validate on 600 samples\n",
      "Epoch 1/20\n",
      "2399/2399 [==============================] - 98s 41ms/sample - loss: 0.5542 - accuracy: 0.8195 - val_loss: 0.4395 - val_accuracy: 0.8400\n",
      "Epoch 2/20\n",
      "2399/2399 [==============================] - 92s 38ms/sample - loss: 0.4506 - accuracy: 0.8320 - val_loss: 0.4327 - val_accuracy: 0.8400\n",
      "Epoch 3/20\n",
      "2399/2399 [==============================] - 88s 37ms/sample - loss: 0.4265 - accuracy: 0.8320 - val_loss: 0.3436 - val_accuracy: 0.8400\n",
      "Epoch 4/20\n",
      "2399/2399 [==============================] - 82s 34ms/sample - loss: 0.2657 - accuracy: 0.9033 - val_loss: 0.2086 - val_accuracy: 0.9533\n",
      "Epoch 5/20\n",
      "2399/2399 [==============================] - 85s 36ms/sample - loss: 0.1360 - accuracy: 0.9829 - val_loss: 0.1184 - val_accuracy: 0.9800\n",
      "Epoch 6/20\n",
      "2399/2399 [==============================] - 84s 35ms/sample - loss: 0.0798 - accuracy: 0.9921 - val_loss: 0.1401 - val_accuracy: 0.9517\n",
      "Epoch 7/20\n",
      "2399/2399 [==============================] - 84s 35ms/sample - loss: 0.0583 - accuracy: 0.9908 - val_loss: 0.0758 - val_accuracy: 0.9867\n",
      "Epoch 8/20\n",
      "2399/2399 [==============================] - 83s 34ms/sample - loss: 0.0367 - accuracy: 0.9975 - val_loss: 0.0621 - val_accuracy: 0.9883\n",
      "Epoch 9/20\n",
      "2399/2399 [==============================] - 82s 34ms/sample - loss: 0.0323 - accuracy: 0.9975 - val_loss: 0.1163 - val_accuracy: 0.9550\n",
      "Epoch 10/20\n",
      "2399/2399 [==============================] - 82s 34ms/sample - loss: 0.0360 - accuracy: 0.9937 - val_loss: 0.0926 - val_accuracy: 0.9750\n"
     ]
    }
   ],
   "source": [
    "my_callbacks_es = EarlyStopping(monitor='val_loss', patience=2)\n",
    "\n",
    "model.compile(loss='binary_crossentropy', optimizer='adam', metrics=['accuracy'])\n",
    "\n",
    "print('Training model...')\n",
    "\n",
    "r = model.fit(\n",
    "    data_train, \n",
    "    Y_train.to_numpy(), \n",
    "    epochs=20, \n",
    "    validation_data=(data_test, Y_test.to_numpy()),\n",
    "    callbacks=[my_callbacks_es]\n",
    ")"
   ]
  },
  {
   "cell_type": "code",
   "execution_count": 73,
   "metadata": {},
   "outputs": [
    {
     "data": {
      "text/plain": [
       "<matplotlib.legend.Legend at 0x7fe70af2f0d0>"
      ]
     },
     "execution_count": 73,
     "metadata": {},
     "output_type": "execute_result"
    },
    {
     "data": {
      "image/png": "[encoded data removed]",
      "text/plain": [
       "<Figure size 432x288 with 1 Axes>"
      ]
     },
     "metadata": {
      "needs_background": "light"
     },
     "output_type": "display_data"
    }
   ],
   "source": [
    "plt.plot(r.history['loss'], label='loss')\n",
    "plt.plot(r.history['val_loss'], label='val_loss')\n",
    "\n",
    "plt.legend()"
   ]
  },
  {
   "cell_type": "code",
   "execution_count": 75,
   "metadata": {},
   "outputs": [
    {
     "data": {
      "text/plain": [
       "<matplotlib.legend.Legend at 0x7fe70fa16750>"
      ]
     },
     "execution_count": 75,
     "metadata": {},
     "output_type": "execute_result"
    },
    {
     "data": {
      "image/png": "[encoded data removed]",
      "text/plain": [
       "<Figure size 432x288 with 1 Axes>"
      ]
     },
     "metadata": {
      "needs_background": "light"
     },
     "output_type": "display_data"
    }
   ],
   "source": [
    "plt.plot(r.history['accuracy'], label='accuracy')\n",
    "plt.plot(r.history['val_accuracy'], label='val_accuracy')\n",
    "\n",
    "plt.legend()"
   ]
  },
  {
   "cell_type": "code",
   "execution_count": 77,
   "metadata": {
    "scrolled": true
   },
   "outputs": [
    {
     "name": "stdout",
     "output_type": "stream",
     "text": [
      "\r",
      "600/1 [================================================================================================================================================================================================================================================================================================================================================================================================================================================================================================================================================================================================================================================================================================================================================================================================================================================================================================================================================================================================================================================================================================================================================================================================================================================================================================================================================================================================================================================================================================================================================================================================================================================================================================================================================================================================================================================================================================================================================================================================================================================================================================================================================================================================================================================================================================================================================================================================================================================================================================================================================================================================================================================================================================================================================================================================================================================================================================================================================================================================================================================================================================================================================================================================================================================================================================================================================================================================================================================================================================================================================================================================================================================================================================================================================================================================================================================================================================================================================================================================================================================================================================================================================================================================================================================================================================================================================================================================================================================================================================================================================================================================================================================================================================================================================================================================================================================================================================================================================================================================================================================================================================================================================================================================================================================================================================================================================================================================================================================================================================================================================================================================================================================================================================================================================================================================================================================================================================================================================================================================================================================================================================================================================================================================================================================================================================================================================================================================================================================================================================================================================================================================================================================================================================================================================================================================================================================================================================================================================================================================================================================================================================================================================================================================================================================================================================================================================================================================================================================================================================================================================================================================================================================================================================================================================================================================================================================================================================================================================================================================================================================================================================================================================================================================================================================================================================================================================================================================================================================================================================================================================================================================================================================================================================================================================================================================================================================================================================================================================================================================================================================================================================================================================================================================================================================================================================================================================================================================================================================================================================================================================================================================================================================================================================================================================================================================================================================================================================================================================================================================================================================================================================================================================================================================================================================================================================================================================================================================================================================================================================================================================================================================================================================================================================================================================================================================================================================================================================================================================================================================================================================================================================================================================================================================================================================================================================================================================================================================================================================================================================================================================================================================================================================================================================================================================================================================================================================================================================================================================================================================================================================================================================================================================================================================================================================================================================================================================================================================================================================================================================================================================================================================================================================================================================================================================================================================================================================================================================================================================================================================================================================================================================================================================================================================================================================================================================================================================================================================================================================================================================================================================================================================================================================================================================================================================================================================================================================================================================================================================================================================================================================================================================================================================================================================================================================================================================================================================================================================================================================================================================================================================================================================================================================================================================================================================================================================================================================================================================================================================================================================================================================================================================================================================================================================================================================================================================================================================================================================================================================================================================================================================================================================================================================================================================================================================================================================================================================================================================================================================================================================================================================================================================================================================================================================================================================================================================================================================================================================================================================================================================================================================================================================================================================================================================================================================================================================================================================================================================================================================================================================================================================================================================================================================================================================================================================================================================================================================================================================================================================================================================================================================================================================================================================================================================================================================================================================================================================================================================================================================================================================================================================================================================================================================================================================================================================================================================================================================================================================================================================================================================================================================================================================================================================================================================================================================] - 4s 7ms/sample - loss: 0.0544 - accuracy: 0.9750\n"
     ]
    },
    {
     "data": {
      "text/plain": [
       "[0.09261894417305787, 0.975]"
      ]
     },
     "execution_count": 77,
     "metadata": {},
     "output_type": "execute_result"
    }
   ],
   "source": [
    "model.evaluate(data_test, Y_test.to_numpy())"
   ]
  },
  {
   "cell_type": "code",
   "execution_count": 78,
   "metadata": {},
   "outputs": [
    {
     "name": "stdout",
     "output_type": "stream",
     "text": [
      "accuracy 0.975\n"
     ]
    }
   ],
   "source": [
    "pred = model.predict(data_test) > 0.5\n",
    "print(f'accuracy {accuracy_score(pred, Y_test)}')"
   ]
  },
  {
   "cell_type": "code",
   "execution_count": 82,
   "metadata": {},
   "outputs": [
    {
     "name": "stdout",
     "output_type": "stream",
     "text": [
      "              precision    recall  f1-score   support\n",
      "\n",
      "       False     0.9802    0.9900    0.9850       499\n",
      "        True     0.9479    0.9010    0.9239       101\n",
      "\n",
      "    accuracy                         0.9750       600\n",
      "   macro avg     0.9640    0.9455    0.9545       600\n",
      "weighted avg     0.9747    0.9750    0.9747       600\n",
      "\n"
     ]
    }
   ],
   "source": [
    "print(classification_report(pred, Y_test, digits=4))"
   ]
  },
  {
   "cell_type": "markdown",
   "metadata": {},
   "source": [
    "# CNN"
   ]
  },
  {
   "cell_type": "code",
   "execution_count": 92,
   "metadata": {},
   "outputs": [],
   "source": [
    "D = 20\n",
    "\n",
    "i = Input(shape=(T,))\n",
    "\n",
    "x = Embedding(V + 1, D)(i)\n",
    "\n",
    "x = Conv1D(32, 3, activation='relu')(x)\n",
    "x = MaxPooling1D(3)(x)\n",
    "\n",
    "x = Conv1D(64, 3, activation='relu')(x)\n",
    "x = MaxPooling1D(3)(x)\n",
    "\n",
    "x = Conv1D(128, 3, activation='relu')(x)\n",
    "\n",
    "x = GlobalMaxPooling1D()(x)\n",
    "\n",
    "x = Dense(1, activation='sigmoid')(x)\n",
    "\n",
    "model2 = Model(i, x)"
   ]
  },
  {
   "cell_type": "code",
   "execution_count": 93,
   "metadata": {},
   "outputs": [
    {
     "name": "stdout",
     "output_type": "stream",
     "text": [
      "Model: \"model_2\"\n",
      "_________________________________________________________________\n",
      "Layer (type)                 Output Shape              Param #   \n",
      "=================================================================\n",
      "input_4 (InputLayer)         [(None, 1000)]            0         \n",
      "_________________________________________________________________\n",
      "embedding_3 (Embedding)      (None, 1000, 20)          618960    \n",
      "_________________________________________________________________\n",
      "conv1d_3 (Conv1D)            (None, 998, 32)           1952      \n",
      "_________________________________________________________________\n",
      "max_pooling1d_2 (MaxPooling1 (None, 332, 32)           0         \n",
      "_________________________________________________________________\n",
      "conv1d_4 (Conv1D)            (None, 330, 64)           6208      \n",
      "_________________________________________________________________\n",
      "max_pooling1d_3 (MaxPooling1 (None, 110, 64)           0         \n",
      "_________________________________________________________________\n",
      "conv1d_5 (Conv1D)            (None, 108, 128)          24704     \n",
      "_________________________________________________________________\n",
      "global_max_pooling1d_3 (Glob (None, 128)               0         \n",
      "_________________________________________________________________\n",
      "dense_3 (Dense)              (None, 1)                 129       \n",
      "=================================================================\n",
      "Total params: 651,953\n",
      "Trainable params: 651,953\n",
      "Non-trainable params: 0\n",
      "_________________________________________________________________\n"
     ]
    }
   ],
   "source": [
    "model2.summary()"
   ]
  },
  {
   "cell_type": "code",
   "execution_count": 94,
   "metadata": {
    "scrolled": false
   },
   "outputs": [
    {
     "name": "stdout",
     "output_type": "stream",
     "text": [
      "Training model...\n",
      "Train on 2399 samples, validate on 600 samples\n",
      "Epoch 1/20\n",
      "2399/2399 [==============================] - 6s 2ms/sample - loss: 0.4435 - accuracy: 0.8220 - val_loss: 0.3288 - val_accuracy: 0.8400\n",
      "Epoch 2/20\n",
      "2399/2399 [==============================] - 5s 2ms/sample - loss: 0.1935 - accuracy: 0.9054 - val_loss: 0.0971 - val_accuracy: 0.9700\n",
      "Epoch 3/20\n",
      "2399/2399 [==============================] - 5s 2ms/sample - loss: 0.0220 - accuracy: 0.9942 - val_loss: 0.0399 - val_accuracy: 0.9850\n",
      "Epoch 4/20\n",
      "2399/2399 [==============================] - 5s 2ms/sample - loss: 0.0027 - accuracy: 0.9992 - val_loss: 0.0443 - val_accuracy: 0.9800\n",
      "Epoch 5/20\n",
      "2399/2399 [==============================] - 5s 2ms/sample - loss: 0.0014 - accuracy: 0.9996 - val_loss: 0.0409 - val_accuracy: 0.9833\n"
     ]
    }
   ],
   "source": [
    "my_callbacks_es = EarlyStopping(monitor='val_loss', patience=2)\n",
    "\n",
    "model2.compile(loss='binary_crossentropy', optimizer='adam', metrics=['accuracy'])\n",
    "\n",
    "print('Training model...')\n",
    "\n",
    "r2 = model2.fit(\n",
    "    data_train, \n",
    "    Y_train.to_numpy(), \n",
    "    epochs=20, \n",
    "    validation_data=(data_test, Y_test.to_numpy()),\n",
    "    callbacks=[my_callbacks_es]\n",
    ")"
   ]
  },
  {
   "cell_type": "code",
   "execution_count": 95,
   "metadata": {},
   "outputs": [
    {
     "data": {
      "text/plain": [
       "<matplotlib.legend.Legend at 0x7fe7127ad310>"
      ]
     },
     "execution_count": 95,
     "metadata": {},
     "output_type": "execute_result"
    },
    {
     "data": {
      "image/png": "[encoded data removed]",
      "text/plain": [
       "<Figure size 432x288 with 1 Axes>"
      ]
     },
     "metadata": {
      "needs_background": "light"
     },
     "output_type": "display_data"
    }
   ],
   "source": [
    "plt.plot(r2.history['loss'], label='loss')\n",
    "plt.plot(r2.history['val_loss'], label='val_loss')\n",
    "\n",
    "plt.legend()"
   ]
  },
  {
   "cell_type": "code",
   "execution_count": 96,
   "metadata": {},
   "outputs": [
    {
     "data": {
      "text/plain": [
       "<matplotlib.legend.Legend at 0x7fe70f053390>"
      ]
     },
     "execution_count": 96,
     "metadata": {},
     "output_type": "execute_result"
    },
    {
     "data": {
      "image/png": "[encoded data removed]",
      "text/plain": [
       "<Figure size 432x288 with 1 Axes>"
      ]
     },
     "metadata": {
      "needs_background": "light"
     },
     "output_type": "display_data"
    }
   ],
   "source": [
    "plt.plot(r2.history['accuracy'], label='accuracy')\n",
    "plt.plot(r2.history['val_accuracy'], label='val_accuracy')\n",
    "\n",
    "plt.legend()"
   ]
  },
  {
   "cell_type": "code",
   "execution_count": 99,
   "metadata": {},
   "outputs": [
    {
     "name": "stdout",
     "output_type": "stream",
     "text": [
      "\r",
      "600/1 [================================================================================================================================================================================================================================================================================================================================================================================================================================================================================================================================================================================================================================================================================================================================================================================================================================================================================================================================================================================================================================================================================================================================================================================================================================================================================================================================================================================================================================================================================================================================================================================================================================================================================================================================================================================================================================================================================================================================================================================================================================================================================================================================================================================================================================================================================================================================================================================================================================================================================================================================================================================================================================================================================================================================================================================================================================================================================================================================================================================================================================================================================================================================================================================================================================================================================================================================================================================================================================================================================================================================================================================================================================================================================================================================================================================================================================================================================================================================================================================================================================================================================================================================================================================================================================================================================================================================================================================================================================================================================================================================================================================================================================================================================================================================================================================================================================================================================================================================================================================================================================================================================================================================================================================================================================================================================================================================================================================================================================================================================================================================================================================================================================================================================================================================================================================================================================================================================================================================================================================================================================================================================================================================================================================================================================================================================================================================================================================================================================================================================================================================================================================================================================================================================================================================================================================================================================================================================================================================================================================================================================================================================================================================================================================================================================================================================================================================================================================================================================================================================================================================================================================================================================================================================================================================================================================================================================================================================================================================================================================================================================================================================================================================================================================================================================================================================================================================================================================================================================================================================================================================================================================================================================================================================================================================================================================================================================================================================================================================================================================================================================================================================================================================================================================================================================================================================================================================================================================================================================================================================================================================================================================================================================================================================================================================================================================================================================================================================================================================================================================================================================================================================================================================================================================================================================================================================================================================================================================================================================================================================================================================================================================================================================================================================================================================================================================================================================================================================================================================================================================================================================================================================================================================================================================================================================================================================================================================================================================================================================================================================================================================================================================================================================================================================================================================================================================================================================================================================================================================================================================================================================================================================================================================================================================================================================================================================================================================================================================================================================================================================================================================================================================================================================================================================================================================================================================================================================================================================================================================================================================================================================================================================================================================================================================================================================================================================================================================================================================================================================================================================================================================================================================================================================================================================================================================================================================================================================================================================================================================================================================================================================================================================================================================================================================================================================================================================================================================================================================================================================================================================================================================================================================================================================================================================================================================================================================================================================================================================================================================================================================================================================================================================================================================================================================================================================================================================================================================================================================================================================================================================================================================================================================================================================================================================================================================================================================================================================================================================================================================================================================================================================================================================================================================================================================================================================================================================================================================================================================================================================================================================================================================================================================================================================================================================================================================================================================================================================================================================================================================================================================================================================================================================================================================================================================================================================================================================================================================================================================================================================================================================================================================================================================================================================================================================================================================================================================================================================================================================================================================================================================================================================================================================================================================================================================================================================================================================================================================================================================================================================================================================================================================================================================================================================================================================================================================================] - 4s 7ms/sample - loss: 0.0544 - accuracy: 0.9750\n"
     ]
    },
    {
     "data": {
      "text/plain": [
       "[0.09261894417305787, 0.975]"
      ]
     },
     "execution_count": 99,
     "metadata": {},
     "output_type": "execute_result"
    }
   ],
   "source": [
    "model.evaluate(data_test, Y_test.to_numpy())"
   ]
  },
  {
   "cell_type": "code",
   "execution_count": 100,
   "metadata": {},
   "outputs": [
    {
     "name": "stdout",
     "output_type": "stream",
     "text": [
      "accuracy 0.9833333333333333\n"
     ]
    }
   ],
   "source": [
    "pred = model2.predict(data_test) > 0.5\n",
    "print(f'accuracy {accuracy_score(pred, Y_test)}')"
   ]
  },
  {
   "cell_type": "code",
   "execution_count": 101,
   "metadata": {
    "scrolled": true
   },
   "outputs": [
    {
     "name": "stdout",
     "output_type": "stream",
     "text": [
      "              precision    recall  f1-score   support\n",
      "\n",
      "       False     0.9861    0.9940    0.9900       500\n",
      "        True     0.9688    0.9300    0.9490       100\n",
      "\n",
      "    accuracy                         0.9833       600\n",
      "   macro avg     0.9774    0.9620    0.9695       600\n",
      "weighted avg     0.9832    0.9833    0.9832       600\n",
      "\n"
     ]
    }
   ],
   "source": [
    "print(classification_report(pred, Y_test, digits=4))"
   ]
  },
  {
   "cell_type": "markdown",
   "metadata": {},
   "source": [
    "# Testing"
   ]
  },
  {
   "cell_type": "code",
   "execution_count": 142,
   "metadata": {},
   "outputs": [
    {
     "name": "stdout",
     "output_type": "stream",
     "text": [
      "Enter a message: hello there\n"
     ]
    }
   ],
   "source": [
    "msg = input('Enter a message: ')"
   ]
  },
  {
   "cell_type": "code",
   "execution_count": 143,
   "metadata": {},
   "outputs": [
    {
     "name": "stdout",
     "output_type": "stream",
     "text": [
      "1323 46 "
     ]
    }
   ],
   "source": [
    "converted = tokenizer.texts_to_sequences(pd.Series(msg))\n",
    "\n",
    "for i in converted[0]:\n",
    "    print(i, end=' ')"
   ]
  },
  {
   "cell_type": "code",
   "execution_count": 144,
   "metadata": {},
   "outputs": [
    {
     "name": "stdout",
     "output_type": "stream",
     "text": [
      "hello there "
     ]
    }
   ],
   "source": [
    "for i in converted[0]:\n",
    "    print(tokenizer.index_word[i], end=' ')"
   ]
  },
  {
   "cell_type": "code",
   "execution_count": 145,
   "metadata": {},
   "outputs": [],
   "source": [
    "data = pad_sequences(converted, maxlen=1000)"
   ]
  },
  {
   "cell_type": "code",
   "execution_count": 147,
   "metadata": {
    "scrolled": false
   },
   "outputs": [
    {
     "data": {
      "text/plain": [
       "array([[ True]])"
      ]
     },
     "execution_count": 147,
     "metadata": {},
     "output_type": "execute_result"
    }
   ],
   "source": [
    "model2.predict(data) > 0.5"
   ]
  },
  {
   "cell_type": "code",
   "execution_count": null,
   "metadata": {},
   "outputs": [],
   "source": []
  }
 ],
 "metadata": {
  "kernelspec": {
   "display_name": "Python 3",
   "language": "python",
   "name": "python3"
  },
  "language_info": {
   "codemirror_mode": {
    "name": "ipython",
    "version": 3
   },
   "file_extension": ".py",
   "mimetype": "text/x-python",
   "name": "python",
   "nbconvert_exporter": "python",
   "pygments_lexer": "ipython3",
   "version": "3.7.4"
  }
 },
 "nbformat": 4,
 "nbformat_minor": 2
}
